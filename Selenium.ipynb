{
 "cells": [
  {
   "cell_type": "markdown",
   "id": "97dfd50c-9d49-43c5-80d8-a3b2d7b2e4b2",
   "metadata": {},
   "source": [
    "# Selenium\n",
    "Selenium is an open source project for a range of tools and libraries to support browser automation. (not testing, not web scraping)"
   ]
  },
  {
   "cell_type": "code",
   "execution_count": null,
   "id": "01c1c583-fa46-4f14-9d8a-bc072467e532",
   "metadata": {},
   "outputs": [],
   "source": []
  }
 ],
 "metadata": {
  "kernelspec": {
   "display_name": "Python 3 (ipykernel)",
   "language": "python",
   "name": "python3"
  },
  "language_info": {
   "codemirror_mode": {
    "name": "ipython",
    "version": 3
   },
   "file_extension": ".py",
   "mimetype": "text/x-python",
   "name": "python",
   "nbconvert_exporter": "python",
   "pygments_lexer": "ipython3",
   "version": "3.10.4"
  }
 },
 "nbformat": 4,
 "nbformat_minor": 5
}
