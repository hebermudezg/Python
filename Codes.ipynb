{
 "cells": [
  {
   "cell_type": "code",
   "execution_count": 54,
   "id": "ddda5a9b-d453-42fc-9aa4-573207f6e415",
   "metadata": {},
   "outputs": [],
   "source": [
    "# Ejercicios\n",
    "# Comprobar si el query es prefijo de la lista.  \n",
    "lista = ['Martin', 'Pedro', 'Maria', 'Martina', 'Marina', 'Mongo']\n",
    "query = ['Martin', 'Mar', 'Mong']\n",
    "# [2, 4, 1]"
   ]
  },
  {
   "cell_type": "code",
   "execution_count": 13,
   "id": "eaf6391a-f242-4b77-81f2-c7e0d14e9e6c",
   "metadata": {},
   "outputs": [
    {
     "data": {
      "text/plain": [
       "5.0"
      ]
     },
     "execution_count": 13,
     "metadata": {},
     "output_type": "execute_result"
    }
   ],
   "source": [
    "s = 'adbeffffcf'\n",
    "len(s)/2"
   ]
  },
  {
   "cell_type": "code",
   "execution_count": 9,
   "id": "724a3160-3985-448c-b6d3-46a622a90498",
   "metadata": {},
   "outputs": [
    {
     "data": {
      "text/plain": [
       "'adb'"
      ]
     },
     "execution_count": 9,
     "metadata": {},
     "output_type": "execute_result"
    }
   ],
   "source": [
    "s[:int(len(s)/2)]"
   ]
  },
  {
   "cell_type": "code",
   "execution_count": 10,
   "id": "b2a57f8b-5703-4e6d-9052-d1a5a6221be3",
   "metadata": {},
   "outputs": [
    {
     "data": {
      "text/plain": [
       "'ecf'"
      ]
     },
     "execution_count": 10,
     "metadata": {},
     "output_type": "execute_result"
    }
   ],
   "source": [
    "s[int(len(s)/2):]"
   ]
  },
  {
   "cell_type": "code",
   "execution_count": null,
   "id": "215c1311-6e73-4f74-919a-f959bb8a19a3",
   "metadata": {},
   "outputs": [],
   "source": [
    "T = int(input()) #number of test cases\n"
   ]
  },
  {
   "cell_type": "code",
   "execution_count": 14,
   "id": "21e585da-bbc1-45e6-a73d-6f8917c5ad93",
   "metadata": {},
   "outputs": [
    {
     "data": {
      "text/plain": [
       "'abffc'"
      ]
     },
     "execution_count": 14,
     "metadata": {},
     "output_type": "execute_result"
    }
   ],
   "source": [
    "s[0::2]"
   ]
  },
  {
   "cell_type": "code",
   "execution_count": 15,
   "id": "165dc761-c970-4162-b777-e2be2da475b9",
   "metadata": {},
   "outputs": [
    {
     "data": {
      "text/plain": [
       "'defff'"
      ]
     },
     "execution_count": 15,
     "metadata": {},
     "output_type": "execute_result"
    }
   ],
   "source": [
    "s[1::2]"
   ]
  },
  {
   "cell_type": "code",
   "execution_count": 16,
   "id": "c0b5c2b2-a5df-49a1-9d5d-8b2221fa636e",
   "metadata": {},
   "outputs": [
    {
     "name": "stdin",
     "output_type": "stream",
     "text": [
      " 1 2 3\n"
     ]
    },
    {
     "ename": "ValueError",
     "evalue": "invalid literal for int() with base 10: '1 2 3'",
     "output_type": "error",
     "traceback": [
      "\u001b[0;31m---------------------------------------------------------------------------\u001b[0m",
      "\u001b[0;31mValueError\u001b[0m                                Traceback (most recent call last)",
      "Input \u001b[0;32mIn [16]\u001b[0m, in \u001b[0;36m<cell line: 1>\u001b[0;34m()\u001b[0m\n\u001b[0;32m----> 1\u001b[0m n \u001b[38;5;241m=\u001b[39m \u001b[38;5;28;43mint\u001b[39;49m\u001b[43m(\u001b[49m\u001b[38;5;28;43minput\u001b[39;49m\u001b[43m(\u001b[49m\u001b[43m)\u001b[49m\u001b[38;5;241;43m.\u001b[39;49m\u001b[43mstrip\u001b[49m\u001b[43m(\u001b[49m\u001b[43m)\u001b[49m\u001b[43m)\u001b[49m\n\u001b[1;32m      2\u001b[0m arr \u001b[38;5;241m=\u001b[39m \u001b[38;5;28mlist\u001b[39m(\u001b[38;5;28mmap\u001b[39m(\u001b[38;5;28mint\u001b[39m, \u001b[38;5;28minput\u001b[39m()\u001b[38;5;241m.\u001b[39mrstrip()\u001b[38;5;241m.\u001b[39msplit()))\n",
      "\u001b[0;31mValueError\u001b[0m: invalid literal for int() with base 10: '1 2 3'"
     ]
    }
   ],
   "source": [
    "n = int(input().strip())\n",
    "arr = list(map(int, input().rstrip().split()))"
   ]
  },
  {
   "cell_type": "code",
   "execution_count": 20,
   "id": "e7ff29c5-fc77-4b6e-9cc4-319122fc38ac",
   "metadata": {},
   "outputs": [
    {
     "name": "stdout",
     "output_type": "stream",
     "text": [
      "3 2 1\n"
     ]
    }
   ],
   "source": [
    "a = [1 , 2, 3]\n",
    "print(*a[::-1])"
   ]
  },
  {
   "cell_type": "code",
   "execution_count": 24,
   "id": "5656d057-e6ef-4b79-8fbc-9fa4e5912d8b",
   "metadata": {},
   "outputs": [],
   "source": [
    "import numpy as np\n",
    "a = np.array([23, 28, 24, 23, 23, 26, 24, 21, 23])"
   ]
  },
  {
   "cell_type": "code",
   "execution_count": 30,
   "id": "c9cff096-e2e6-41b9-8715-fec487b984f5",
   "metadata": {},
   "outputs": [
    {
     "data": {
      "text/plain": [
       "3.654320987654321"
      ]
     },
     "execution_count": 30,
     "metadata": {},
     "output_type": "execute_result"
    }
   ],
   "source": [
    "a.var()\n"
   ]
  },
  {
   "cell_type": "code",
   "execution_count": null,
   "id": "d95802c5-040f-440b-bd5e-6766a1c50cbe",
   "metadata": {},
   "outputs": [],
   "source": []
  }
 ],
 "metadata": {
  "kernelspec": {
   "display_name": "Python 3 (ipykernel)",
   "language": "python",
   "name": "python3"
  },
  "language_info": {
   "codemirror_mode": {
    "name": "ipython",
    "version": 3
   },
   "file_extension": ".py",
   "mimetype": "text/x-python",
   "name": "python",
   "nbconvert_exporter": "python",
   "pygments_lexer": "ipython3",
   "version": "3.10.4"
  }
 },
 "nbformat": 4,
 "nbformat_minor": 5
}
