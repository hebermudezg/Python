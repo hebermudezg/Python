{
  "nbformat": 4,
  "nbformat_minor": 0,
  "metadata": {
    "colab": {
      "name": "Python-notas.ipynb",
      "provenance": [],
      "collapsed_sections": [
        "9VmiU5-TDSPl",
        "fQVdT6AAowHj"
      ],
      "toc_visible": true
    },
    "kernelspec": {
      "name": "python3",
      "display_name": "Python 3"
    }
  },
  "cells": [
    {
      "cell_type": "markdown",
      "metadata": {
        "id": "3oVsUejC-Wna"
      },
      "source": [
        "# **Python notas**\n",
        "____\n",
        "\n",
        "![texto alternativo](https://www.python.org/static/community_logos/python-logo-master-v3-TM.png)\n",
        "\n"
      ]
    },
    {
      "cell_type": "markdown",
      "metadata": {
        "id": "7-2tyUD-J6Vk"
      },
      "source": [
        "Python es un lenguaje de programación interpretado cuya filosofía hace hincapié en una sintaxis que favorezca un código legible. Se trata de un lenguaje de programación multiparadigma, ya que soporta orientación a objetos, programación imperativa y, en menor medida, programación funcional. Es un lenguaje interpretado, de tipado fuerte, dinámico y multiplataforma.\n",
        "\n",
        "**Caracteristicas.**\n",
        "\n",
        "*   Lenguaje de alto nivel.\n",
        "*   Tipado dinamico y fuerte.\n",
        "*   Orientado a objetos.\n",
        "*   Open source.\n",
        "*   Interpretado. \n",
        "*   Multiplataforma.\n",
        "\n",
        "\n",
        "**Historia**\n",
        "\n",
        "Python fue creado a finales de los ochenta por Guido van Rossum en el Centro para las Matemáticas y la Informática (CWI, Centrum Wiskunde & Informatica), en los Países Bajos, como un sucesor del lenguaje de programación ABC.\n",
        "\n",
        "\n",
        "**Que es pip**\n",
        "\n",
        "PiP es un acrónimo recursivo de \" Pip Installs Packages \". Es esencialmente un sistema de administración de paquetes utilizado para instalar y administrar paquetes de software escritos en Python **py -m pip install pandas**\n",
        "\n",
        "\n",
        "\n",
        "**Donde programar ?**\n",
        "\n",
        "* Consola (.py)\n",
        "* Bloc de notas\n",
        "* ipython (Interactive python)\n",
        "* jupyter notebook (.ipynb)\n",
        "* jupyter.org (nube)\n",
        "* Colaboratory (google)\n",
        "* IDLE\n",
        "* Spyder (Distribución anaconda navigator)\n",
        "\n",
        "\n",
        "**Librerias mas usadas en python**\n",
        "* NumPy (soporte para vectores y matrices)\n",
        "* scipy (computacion cientifica)\n",
        "* pandas (estadistica, data frame)\n",
        "* scikit learn (machine learning)\n",
        "* tensorflow (redes neuronales)\n",
        "* astropy (para astronomia)\n",
        "* matplotlib (graficacion)\n",
        "* pytorch\n",
        "\n",
        "\n",
        "**Tipos de datos en Python** (lo veremos en detalle mas adelante)\n",
        "* Enteros (int)\n",
        "* Booleanos (bool) (compatibles con opeaciones booleanas and, or, not.)\n",
        "* Cadenas (str)\n",
        "* Listas: Son un grupo o array de datos (mutables)\n",
        "* Diccionarios: Son un grupo de valores o datos que se acceden a travéz de una clave\n",
        "* Tuplas: también son un grupo de datos igual que una lista (pero inmutables)"
      ]
    },
    {
      "cell_type": "markdown",
      "metadata": {
        "id": "xAaM0oJRiZwb"
      },
      "source": [
        "***Usa la estadística como un borracho usa las farolas, para el apoyo en lugar de la iluminacion - Andrew Lang***"
      ]
    },
    {
      "cell_type": "code",
      "metadata": {
        "id": "IEZjTqWMn9yD",
        "outputId": "bb2a890a-22ee-4a20-ed35-8abd85dec94e",
        "colab": {
          "base_uri": "https://localhost:8080/",
          "height": 374
        }
      },
      "source": [
        "# Para tener en cuenta en este mundo maravilloso de la programación. \n",
        "import this"
      ],
      "execution_count": null,
      "outputs": [
        {
          "output_type": "stream",
          "text": [
            "The Zen of Python, by Tim Peters\n",
            "\n",
            "Beautiful is better than ugly.\n",
            "Explicit is better than implicit.\n",
            "Simple is better than complex.\n",
            "Complex is better than complicated.\n",
            "Flat is better than nested.\n",
            "Sparse is better than dense.\n",
            "Readability counts.\n",
            "Special cases aren't special enough to break the rules.\n",
            "Although practicality beats purity.\n",
            "Errors should never pass silently.\n",
            "Unless explicitly silenced.\n",
            "In the face of ambiguity, refuse the temptation to guess.\n",
            "There should be one-- and preferably only one --obvious way to do it.\n",
            "Although that way may not be obvious at first unless you're Dutch.\n",
            "Now is better than never.\n",
            "Although never is often better than *right* now.\n",
            "If the implementation is hard to explain, it's a bad idea.\n",
            "If the implementation is easy to explain, it may be a good idea.\n",
            "Namespaces are one honking great idea -- let's do more of those!\n"
          ],
          "name": "stdout"
        }
      ]
    },
    {
      "cell_type": "markdown",
      "metadata": {
        "id": "LPdBJwFOlzqZ"
      },
      "source": [
        "## **Operadores comunes**\n",
        "---"
      ]
    },
    {
      "cell_type": "markdown",
      "metadata": {
        "id": "fMR3ntEumHom"
      },
      "source": [
        "longitud de una cadena, tupla, lista, diccionario, etc."
      ]
    },
    {
      "cell_type": "code",
      "metadata": {
        "id": "4WGtJjsClzHu",
        "outputId": "7f241e56-d86e-4761-a517-33621a8f71b2",
        "colab": {
          "base_uri": "https://localhost:8080/",
          "height": 34
        }
      },
      "source": [
        "len(\"hola\")"
      ],
      "execution_count": null,
      "outputs": [
        {
          "output_type": "execute_result",
          "data": {
            "text/plain": [
              "4"
            ]
          },
          "metadata": {
            "tags": []
          },
          "execution_count": 1
        }
      ]
    },
    {
      "cell_type": "markdown",
      "metadata": {
        "id": "0mnDin_ZmQ4e"
      },
      "source": [
        "Para observar el tipo de dato usamos la función type()"
      ]
    },
    {
      "cell_type": "code",
      "metadata": {
        "id": "XAD5LNhrmZnP",
        "outputId": "1c1caa53-975c-4bcc-897a-7aa2d4f34eb4",
        "colab": {
          "base_uri": "https://localhost:8080/",
          "height": 34
        }
      },
      "source": [
        "type(8.5)"
      ],
      "execution_count": null,
      "outputs": [
        {
          "output_type": "execute_result",
          "data": {
            "text/plain": [
              "float"
            ]
          },
          "metadata": {
            "tags": []
          },
          "execution_count": 2
        }
      ]
    },
    {
      "cell_type": "markdown",
      "metadata": {
        "id": "3b15hg-mmdsm"
      },
      "source": [
        "Redondear.\n"
      ]
    },
    {
      "cell_type": "code",
      "metadata": {
        "id": "8ueJJk-lmmyn",
        "outputId": "1ec1dab5-3d8f-451e-9981-d936a24b7ec6",
        "colab": {
          "base_uri": "https://localhost:8080/",
          "height": 34
        }
      },
      "source": [
        "# redondeando a 3 cifras decimales\n",
        "round(8.12345678, 3 ) "
      ],
      "execution_count": null,
      "outputs": [
        {
          "output_type": "execute_result",
          "data": {
            "text/plain": [
              "8.123"
            ]
          },
          "metadata": {
            "tags": []
          },
          "execution_count": 11
        }
      ]
    },
    {
      "cell_type": "markdown",
      "metadata": {
        "id": "VX1t4-h-nkgb"
      },
      "source": [
        "Organizar un conjunto"
      ]
    },
    {
      "cell_type": "code",
      "metadata": {
        "id": "Cx5JZabwnpMQ",
        "outputId": "6d819a92-871a-488e-95f2-949d613aa984",
        "colab": {
          "base_uri": "https://localhost:8080/",
          "height": 34
        }
      },
      "source": [
        "sorted([1,8,9,6,4,])"
      ],
      "execution_count": null,
      "outputs": [
        {
          "output_type": "execute_result",
          "data": {
            "text/plain": [
              "[1, 4, 6, 8, 9]"
            ]
          },
          "metadata": {
            "tags": []
          },
          "execution_count": 17
        }
      ]
    },
    {
      "cell_type": "markdown",
      "metadata": {
        "id": "JjZpSkxSn5eX"
      },
      "source": [
        "funciones o metodos que se pueden aplicar a un tipo de datos"
      ]
    },
    {
      "cell_type": "code",
      "metadata": {
        "id": "1UvCKyosn_Ue"
      },
      "source": [
        "a = \"hola mundo\"\n",
        "dir(a)"
      ],
      "execution_count": null,
      "outputs": []
    },
    {
      "cell_type": "markdown",
      "metadata": {
        "id": "75ctiokWemHY"
      },
      "source": [
        "## **Nuestro primer programa**\n"
      ]
    },
    {
      "cell_type": "code",
      "metadata": {
        "id": "SF-HO29NerU8",
        "colab": {
          "base_uri": "https://localhost:8080/",
          "height": 381
        },
        "outputId": "6333791c-172e-45de-b3d0-e74cfc9eb0bc"
      },
      "source": [
        "import turtle\n",
        "#window = turtle.Screen()\n",
        "esteban = turtle.Turtle()\n",
        "esteban.fordwar(50)\n",
        "esteban.left(90)\n",
        "esteban.fordwar(50)\n",
        "esteban.left(90)\n",
        "esteban.fordwar(50)\n",
        "esteban.left(90)\n",
        "esteban.fordwar(50)\n",
        "esteban.left(90)\n",
        "turtle.mainloop()\n"
      ],
      "execution_count": null,
      "outputs": [
        {
          "output_type": "error",
          "ename": "TclError",
          "evalue": "ignored",
          "traceback": [
            "\u001b[0;31m---------------------------------------------------------------------------\u001b[0m",
            "\u001b[0;31mTclError\u001b[0m                                  Traceback (most recent call last)",
            "\u001b[0;32m<ipython-input-1-a8c017fb80bb>\u001b[0m in \u001b[0;36m<module>\u001b[0;34m()\u001b[0m\n\u001b[1;32m      1\u001b[0m \u001b[0;32mimport\u001b[0m \u001b[0mturtle\u001b[0m\u001b[0;34m\u001b[0m\u001b[0;34m\u001b[0m\u001b[0m\n\u001b[1;32m      2\u001b[0m \u001b[0;31m#window = turtle.Screen()\u001b[0m\u001b[0;34m\u001b[0m\u001b[0;34m\u001b[0m\u001b[0;34m\u001b[0m\u001b[0m\n\u001b[0;32m----> 3\u001b[0;31m \u001b[0mesteban\u001b[0m \u001b[0;34m=\u001b[0m \u001b[0mturtle\u001b[0m\u001b[0;34m.\u001b[0m\u001b[0mTurtle\u001b[0m\u001b[0;34m(\u001b[0m\u001b[0;34m)\u001b[0m\u001b[0;34m\u001b[0m\u001b[0;34m\u001b[0m\u001b[0m\n\u001b[0m\u001b[1;32m      4\u001b[0m \u001b[0mesteban\u001b[0m\u001b[0;34m.\u001b[0m\u001b[0mfordwar\u001b[0m\u001b[0;34m(\u001b[0m\u001b[0;36m50\u001b[0m\u001b[0;34m)\u001b[0m\u001b[0;34m\u001b[0m\u001b[0;34m\u001b[0m\u001b[0m\n\u001b[1;32m      5\u001b[0m \u001b[0mesteban\u001b[0m\u001b[0;34m.\u001b[0m\u001b[0mleft\u001b[0m\u001b[0;34m(\u001b[0m\u001b[0;36m90\u001b[0m\u001b[0;34m)\u001b[0m\u001b[0;34m\u001b[0m\u001b[0;34m\u001b[0m\u001b[0m\n",
            "\u001b[0;32m/usr/lib/python3.7/turtle.py\u001b[0m in \u001b[0;36m__init__\u001b[0;34m(self, shape, undobuffersize, visible)\u001b[0m\n\u001b[1;32m   3810\u001b[0m                  visible=_CFG[\"visible\"]):\n\u001b[1;32m   3811\u001b[0m         \u001b[0;32mif\u001b[0m \u001b[0mTurtle\u001b[0m\u001b[0;34m.\u001b[0m\u001b[0m_screen\u001b[0m \u001b[0;32mis\u001b[0m \u001b[0;32mNone\u001b[0m\u001b[0;34m:\u001b[0m\u001b[0;34m\u001b[0m\u001b[0;34m\u001b[0m\u001b[0m\n\u001b[0;32m-> 3812\u001b[0;31m             \u001b[0mTurtle\u001b[0m\u001b[0;34m.\u001b[0m\u001b[0m_screen\u001b[0m \u001b[0;34m=\u001b[0m \u001b[0mScreen\u001b[0m\u001b[0;34m(\u001b[0m\u001b[0;34m)\u001b[0m\u001b[0;34m\u001b[0m\u001b[0;34m\u001b[0m\u001b[0m\n\u001b[0m\u001b[1;32m   3813\u001b[0m         RawTurtle.__init__(self, Turtle._screen,\n\u001b[1;32m   3814\u001b[0m                            \u001b[0mshape\u001b[0m\u001b[0;34m=\u001b[0m\u001b[0mshape\u001b[0m\u001b[0;34m,\u001b[0m\u001b[0;34m\u001b[0m\u001b[0;34m\u001b[0m\u001b[0m\n",
            "\u001b[0;32m/usr/lib/python3.7/turtle.py\u001b[0m in \u001b[0;36mScreen\u001b[0;34m()\u001b[0m\n\u001b[1;32m   3660\u001b[0m     else return the existing one.\"\"\"\n\u001b[1;32m   3661\u001b[0m     \u001b[0;32mif\u001b[0m \u001b[0mTurtle\u001b[0m\u001b[0;34m.\u001b[0m\u001b[0m_screen\u001b[0m \u001b[0;32mis\u001b[0m \u001b[0;32mNone\u001b[0m\u001b[0;34m:\u001b[0m\u001b[0;34m\u001b[0m\u001b[0;34m\u001b[0m\u001b[0m\n\u001b[0;32m-> 3662\u001b[0;31m         \u001b[0mTurtle\u001b[0m\u001b[0;34m.\u001b[0m\u001b[0m_screen\u001b[0m \u001b[0;34m=\u001b[0m \u001b[0m_Screen\u001b[0m\u001b[0;34m(\u001b[0m\u001b[0;34m)\u001b[0m\u001b[0;34m\u001b[0m\u001b[0;34m\u001b[0m\u001b[0m\n\u001b[0m\u001b[1;32m   3663\u001b[0m     \u001b[0;32mreturn\u001b[0m \u001b[0mTurtle\u001b[0m\u001b[0;34m.\u001b[0m\u001b[0m_screen\u001b[0m\u001b[0;34m\u001b[0m\u001b[0;34m\u001b[0m\u001b[0m\n\u001b[1;32m   3664\u001b[0m \u001b[0;34m\u001b[0m\u001b[0m\n",
            "\u001b[0;32m/usr/lib/python3.7/turtle.py\u001b[0m in \u001b[0;36m__init__\u001b[0;34m(self)\u001b[0m\n\u001b[1;32m   3676\u001b[0m         \u001b[0;31m# preserved (perhaps by passing it as an optional parameter)\u001b[0m\u001b[0;34m\u001b[0m\u001b[0;34m\u001b[0m\u001b[0;34m\u001b[0m\u001b[0m\n\u001b[1;32m   3677\u001b[0m         \u001b[0;32mif\u001b[0m \u001b[0m_Screen\u001b[0m\u001b[0;34m.\u001b[0m\u001b[0m_root\u001b[0m \u001b[0;32mis\u001b[0m \u001b[0;32mNone\u001b[0m\u001b[0;34m:\u001b[0m\u001b[0;34m\u001b[0m\u001b[0;34m\u001b[0m\u001b[0m\n\u001b[0;32m-> 3678\u001b[0;31m             \u001b[0m_Screen\u001b[0m\u001b[0;34m.\u001b[0m\u001b[0m_root\u001b[0m \u001b[0;34m=\u001b[0m \u001b[0mself\u001b[0m\u001b[0;34m.\u001b[0m\u001b[0m_root\u001b[0m \u001b[0;34m=\u001b[0m \u001b[0m_Root\u001b[0m\u001b[0;34m(\u001b[0m\u001b[0;34m)\u001b[0m\u001b[0;34m\u001b[0m\u001b[0;34m\u001b[0m\u001b[0m\n\u001b[0m\u001b[1;32m   3679\u001b[0m             \u001b[0mself\u001b[0m\u001b[0;34m.\u001b[0m\u001b[0m_root\u001b[0m\u001b[0;34m.\u001b[0m\u001b[0mtitle\u001b[0m\u001b[0;34m(\u001b[0m\u001b[0m_Screen\u001b[0m\u001b[0;34m.\u001b[0m\u001b[0m_title\u001b[0m\u001b[0;34m)\u001b[0m\u001b[0;34m\u001b[0m\u001b[0;34m\u001b[0m\u001b[0m\n\u001b[1;32m   3680\u001b[0m             \u001b[0mself\u001b[0m\u001b[0;34m.\u001b[0m\u001b[0m_root\u001b[0m\u001b[0;34m.\u001b[0m\u001b[0mondestroy\u001b[0m\u001b[0;34m(\u001b[0m\u001b[0mself\u001b[0m\u001b[0;34m.\u001b[0m\u001b[0m_destroy\u001b[0m\u001b[0;34m)\u001b[0m\u001b[0;34m\u001b[0m\u001b[0;34m\u001b[0m\u001b[0m\n",
            "\u001b[0;32m/usr/lib/python3.7/turtle.py\u001b[0m in \u001b[0;36m__init__\u001b[0;34m(self)\u001b[0m\n\u001b[1;32m    432\u001b[0m     \u001b[0;34m\"\"\"Root class for Screen based on Tkinter.\"\"\"\u001b[0m\u001b[0;34m\u001b[0m\u001b[0;34m\u001b[0m\u001b[0m\n\u001b[1;32m    433\u001b[0m     \u001b[0;32mdef\u001b[0m \u001b[0m__init__\u001b[0m\u001b[0;34m(\u001b[0m\u001b[0mself\u001b[0m\u001b[0;34m)\u001b[0m\u001b[0;34m:\u001b[0m\u001b[0;34m\u001b[0m\u001b[0;34m\u001b[0m\u001b[0m\n\u001b[0;32m--> 434\u001b[0;31m         \u001b[0mTK\u001b[0m\u001b[0;34m.\u001b[0m\u001b[0mTk\u001b[0m\u001b[0;34m.\u001b[0m\u001b[0m__init__\u001b[0m\u001b[0;34m(\u001b[0m\u001b[0mself\u001b[0m\u001b[0;34m)\u001b[0m\u001b[0;34m\u001b[0m\u001b[0;34m\u001b[0m\u001b[0m\n\u001b[0m\u001b[1;32m    435\u001b[0m \u001b[0;34m\u001b[0m\u001b[0m\n\u001b[1;32m    436\u001b[0m     \u001b[0;32mdef\u001b[0m \u001b[0msetupcanvas\u001b[0m\u001b[0;34m(\u001b[0m\u001b[0mself\u001b[0m\u001b[0;34m,\u001b[0m \u001b[0mwidth\u001b[0m\u001b[0;34m,\u001b[0m \u001b[0mheight\u001b[0m\u001b[0;34m,\u001b[0m \u001b[0mcwidth\u001b[0m\u001b[0;34m,\u001b[0m \u001b[0mcheight\u001b[0m\u001b[0;34m)\u001b[0m\u001b[0;34m:\u001b[0m\u001b[0;34m\u001b[0m\u001b[0;34m\u001b[0m\u001b[0m\n",
            "\u001b[0;32m/usr/lib/python3.7/tkinter/__init__.py\u001b[0m in \u001b[0;36m__init__\u001b[0;34m(self, screenName, baseName, className, useTk, sync, use)\u001b[0m\n\u001b[1;32m   2021\u001b[0m                 \u001b[0mbaseName\u001b[0m \u001b[0;34m=\u001b[0m \u001b[0mbaseName\u001b[0m \u001b[0;34m+\u001b[0m \u001b[0mext\u001b[0m\u001b[0;34m\u001b[0m\u001b[0;34m\u001b[0m\u001b[0m\n\u001b[1;32m   2022\u001b[0m         \u001b[0minteractive\u001b[0m \u001b[0;34m=\u001b[0m \u001b[0;36m0\u001b[0m\u001b[0;34m\u001b[0m\u001b[0;34m\u001b[0m\u001b[0m\n\u001b[0;32m-> 2023\u001b[0;31m         \u001b[0mself\u001b[0m\u001b[0;34m.\u001b[0m\u001b[0mtk\u001b[0m \u001b[0;34m=\u001b[0m \u001b[0m_tkinter\u001b[0m\u001b[0;34m.\u001b[0m\u001b[0mcreate\u001b[0m\u001b[0;34m(\u001b[0m\u001b[0mscreenName\u001b[0m\u001b[0;34m,\u001b[0m \u001b[0mbaseName\u001b[0m\u001b[0;34m,\u001b[0m \u001b[0mclassName\u001b[0m\u001b[0;34m,\u001b[0m \u001b[0minteractive\u001b[0m\u001b[0;34m,\u001b[0m \u001b[0mwantobjects\u001b[0m\u001b[0;34m,\u001b[0m \u001b[0museTk\u001b[0m\u001b[0;34m,\u001b[0m \u001b[0msync\u001b[0m\u001b[0;34m,\u001b[0m \u001b[0muse\u001b[0m\u001b[0;34m)\u001b[0m\u001b[0;34m\u001b[0m\u001b[0;34m\u001b[0m\u001b[0m\n\u001b[0m\u001b[1;32m   2024\u001b[0m         \u001b[0;32mif\u001b[0m \u001b[0museTk\u001b[0m\u001b[0;34m:\u001b[0m\u001b[0;34m\u001b[0m\u001b[0;34m\u001b[0m\u001b[0m\n\u001b[1;32m   2025\u001b[0m             \u001b[0mself\u001b[0m\u001b[0;34m.\u001b[0m\u001b[0m_loadtk\u001b[0m\u001b[0;34m(\u001b[0m\u001b[0;34m)\u001b[0m\u001b[0;34m\u001b[0m\u001b[0;34m\u001b[0m\u001b[0m\n",
            "\u001b[0;31mTclError\u001b[0m: no display name and no $DISPLAY environment variable"
          ]
        }
      ]
    },
    {
      "cell_type": "code",
      "metadata": {
        "id": "oPG9XqqS4z0S"
      },
      "source": [
        ""
      ],
      "execution_count": null,
      "outputs": []
    },
    {
      "cell_type": "markdown",
      "metadata": {
        "id": "TD-Lq4uw_61n"
      },
      "source": [
        "**Imprimir**\n",
        "---"
      ]
    },
    {
      "cell_type": "markdown",
      "metadata": {
        "id": "orApxXGGo29J"
      },
      "source": [
        "En Python existe una amplia manera de imprimir resultados en pantalla, aquí mostraremos algunas de ellas. "
      ]
    },
    {
      "cell_type": "code",
      "metadata": {
        "id": "O5LkOguIBSWh"
      },
      "source": [
        "# Primero definamos algunas variables para trabajar.\n",
        "a = 8\n",
        "b = 8.8\n",
        "c = \"Unalytics\"\n"
      ],
      "execution_count": null,
      "outputs": []
    },
    {
      "cell_type": "code",
      "metadata": {
        "id": "g9YApDtv-xnn",
        "outputId": "326eef46-fd9a-4cf5-a959-a1972ba87c87",
        "colab": {
          "base_uri": "https://localhost:8080/",
          "height": 187
        }
      },
      "source": [
        "# Forma 1.\n",
        "print(\"hola mundo\")\n",
        "\n",
        "# Forma 2.\n",
        "print(a, b, c)\n",
        "print(\"a:\", a, \"b:\", b, \"c:\", c)\n",
        "print(\"resultado\", a*b)\n",
        "print(\"Escribir algo entre \\\"comillas\\\"\")\n",
        "\n",
        "# Forma 3. (Especificadores de formato)\n",
        "print(\"numero1: %d numero2: %.2f caracteres: %s\" %(a,b,c))\n",
        "\n",
        "# Forma 4 \n",
        "print(\"{} es un float y {} es un caracter\".format(b, c))\n",
        "\n",
        "\n",
        "# Forma 5. (triple comilla)\n",
        "print(\"\"\"para que podamos \n",
        "incluir saltos \n",
        "de linea\"\"\")\n",
        "\n"
      ],
      "execution_count": null,
      "outputs": [
        {
          "output_type": "stream",
          "text": [
            "hola mundo\n",
            "8 8.8 Unalytics\n",
            "a: 8 b: 8.8 c: Unalytics\n",
            "resultado 70.4\n",
            "Escribir algo entre \"comillas\"\n",
            "numero1: 8 numero2: 8.80 caracteres: Unalytics\n",
            "8.8 es un float y Unalytics es un caracter\n",
            "para que podamos \n",
            "incluir saltos \n",
            "de linea\n"
          ],
          "name": "stdout"
        }
      ]
    },
    {
      "cell_type": "markdown",
      "metadata": {
        "id": "hmyUCfTUAV93"
      },
      "source": [
        "\n",
        "**Nota:**\n",
        "```\n",
        "print(\"hola mundo\")  en  py 3.x  (forma funcional)\n",
        "print \"hola mundo\"   en  py 2.x\n",
        "```\n",
        "\n"
      ]
    },
    {
      "cell_type": "markdown",
      "metadata": {
        "id": "9VmiU5-TDSPl"
      },
      "source": [
        "**Entrada**\n",
        "---"
      ]
    },
    {
      "cell_type": "code",
      "metadata": {
        "id": "8hiMHAvAAnUH",
        "outputId": "e0289dfb-10e1-4a34-d968-d97ec4a97693",
        "colab": {
          "base_uri": "https://localhost:8080/",
          "height": 51
        }
      },
      "source": [
        "input()"
      ],
      "execution_count": null,
      "outputs": [
        {
          "output_type": "stream",
          "text": [
            "Esteban\n"
          ],
          "name": "stdout"
        },
        {
          "output_type": "execute_result",
          "data": {
            "text/plain": [
              "'Esteban'"
            ]
          },
          "metadata": {
            "tags": []
          },
          "execution_count": 17
        }
      ]
    },
    {
      "cell_type": "markdown",
      "metadata": {
        "id": "fQVdT6AAowHj"
      },
      "source": [
        "**Manejo String**\n",
        "---\n",
        "Los string son inmutables, la comparación de cadenas se hace en orden lexicográfico."
      ]
    },
    {
      "cell_type": "code",
      "metadata": {
        "id": "MdPIF-JIo3r7",
        "outputId": "ed3179f4-717d-4b1d-ffaa-d8f336db133f",
        "colab": {
          "base_uri": "https://localhost:8080/",
          "height": 34
        }
      },
      "source": [
        "\"b\" > \"a\""
      ],
      "execution_count": null,
      "outputs": [
        {
          "output_type": "execute_result",
          "data": {
            "text/plain": [
              "True"
            ]
          },
          "metadata": {
            "tags": []
          },
          "execution_count": 29
        }
      ]
    },
    {
      "cell_type": "code",
      "metadata": {
        "id": "n-SFK4CHI7OL"
      },
      "source": [
        "text = \"hola, como vas?\""
      ],
      "execution_count": null,
      "outputs": []
    },
    {
      "cell_type": "code",
      "metadata": {
        "id": "6cvrhLHnJGlU",
        "outputId": "8763635d-1d25-47ab-b7d2-389e83768416",
        "colab": {
          "base_uri": "https://localhost:8080/",
          "height": 33
        }
      },
      "source": [
        "# acceder por indice al strig\n",
        "text[0]"
      ],
      "execution_count": null,
      "outputs": [
        {
          "output_type": "execute_result",
          "data": {
            "text/plain": [
              "'h'"
            ]
          },
          "metadata": {
            "tags": []
          },
          "execution_count": 2
        }
      ]
    },
    {
      "cell_type": "code",
      "metadata": {
        "id": "EwKV6a8gJLXl",
        "outputId": "9d85ccea-2736-4f15-baeb-4bfa0fafe0a8",
        "colab": {
          "base_uri": "https://localhost:8080/",
          "height": 33
        }
      },
      "source": [
        "# longitud del string\n",
        "len(text)"
      ],
      "execution_count": null,
      "outputs": [
        {
          "output_type": "execute_result",
          "data": {
            "text/plain": [
              "15"
            ]
          },
          "metadata": {
            "tags": []
          },
          "execution_count": 3
        }
      ]
    },
    {
      "cell_type": "code",
      "metadata": {
        "id": "WEMRtCrTJPpE",
        "outputId": "02aaa756-e036-46a0-eff7-2c2ce6eba951",
        "colab": {
          "base_uri": "https://localhost:8080/",
          "height": 33
        }
      },
      "source": [
        "# acceder al ultimo caracter\n",
        "text[len(text)-1]"
      ],
      "execution_count": null,
      "outputs": [
        {
          "output_type": "execute_result",
          "data": {
            "text/plain": [
              "'?'"
            ]
          },
          "metadata": {
            "tags": []
          },
          "execution_count": 4
        }
      ]
    },
    {
      "cell_type": "markdown",
      "metadata": {
        "id": "O-Y4cQpUMTXu"
      },
      "source": [
        "### Slices (rebanada)"
      ]
    },
    {
      "cell_type": "code",
      "metadata": {
        "id": "Pb3IxYchMZku"
      },
      "source": [
        "string = \"sabrina\""
      ],
      "execution_count": null,
      "outputs": []
    },
    {
      "cell_type": "code",
      "metadata": {
        "id": "yWMVwyAWMzFM",
        "outputId": "58a7a223-45c6-4448-df85-ef96119c4037",
        "colab": {
          "base_uri": "https://localhost:8080/",
          "height": 33
        }
      },
      "source": [
        "string[1:]"
      ],
      "execution_count": null,
      "outputs": [
        {
          "output_type": "execute_result",
          "data": {
            "text/plain": [
              "'abrina'"
            ]
          },
          "metadata": {
            "tags": []
          },
          "execution_count": 8
        }
      ]
    },
    {
      "cell_type": "code",
      "metadata": {
        "id": "eW9HTdAsM5Jz",
        "outputId": "90835619-c68a-40dc-997e-248eacd01b91",
        "colab": {
          "base_uri": "https://localhost:8080/",
          "height": 33
        }
      },
      "source": [
        "string[2:4]"
      ],
      "execution_count": null,
      "outputs": [
        {
          "output_type": "execute_result",
          "data": {
            "text/plain": [
              "'br'"
            ]
          },
          "metadata": {
            "tags": []
          },
          "execution_count": 10
        }
      ]
    },
    {
      "cell_type": "code",
      "metadata": {
        "id": "iAOnlYyZNbcK",
        "outputId": "9ff3085e-9848-4f4a-e24d-ca829c3d3a29",
        "colab": {
          "base_uri": "https://localhost:8080/",
          "height": 33
        }
      },
      "source": [
        "# del cero hasta el final en saltos de 2\n",
        "string[0::2]"
      ],
      "execution_count": null,
      "outputs": [
        {
          "output_type": "execute_result",
          "data": {
            "text/plain": [
              "'sbia'"
            ]
          },
          "metadata": {
            "tags": []
          },
          "execution_count": 11
        }
      ]
    },
    {
      "cell_type": "code",
      "metadata": {
        "id": "SdbZWh7oNmGS",
        "outputId": "04a50a5d-0808-4920-c529-26a695b4596d",
        "colab": {
          "base_uri": "https://localhost:8080/",
          "height": 33
        }
      },
      "source": [
        "# sabrina al revés\n",
        "string[::-1]"
      ],
      "execution_count": null,
      "outputs": [
        {
          "output_type": "execute_result",
          "data": {
            "text/plain": [
              "'anirbas'"
            ]
          },
          "metadata": {
            "tags": []
          },
          "execution_count": 12
        }
      ]
    },
    {
      "cell_type": "code",
      "metadata": {
        "id": "iAU-xQI_OJUj"
      },
      "source": [
        ""
      ],
      "execution_count": null,
      "outputs": []
    },
    {
      "cell_type": "markdown",
      "metadata": {
        "id": "ZmNrmDK7qdx9"
      },
      "source": [
        "**ASCII vs Unicode**\n",
        "\n",
        "Codificadores de carácteres\n",
        "ASCII (American Standart code for informaticon interchage)\n",
        "\n",
        "Unicode (integra casi la mayoria de los alfabetos del mundo)\n"
      ]
    },
    {
      "cell_type": "markdown",
      "metadata": {
        "id": "8E1D8P2PFKv2"
      },
      "source": [
        "## **Estructuras de control**\n",
        "---"
      ]
    },
    {
      "cell_type": "markdown",
      "metadata": {
        "id": "q0uCVuu5FRYe"
      },
      "source": [
        "### Condicional-If\n"
      ]
    },
    {
      "cell_type": "code",
      "metadata": {
        "id": "1850KvQALv6c",
        "outputId": "a4d7ef81-29f9-4c31-fbd4-32ded0a0237b",
        "colab": {
          "base_uri": "https://localhost:8080/",
          "height": 34
        }
      },
      "source": [
        "# Declarando variables \n",
        "numero_1 = 80\n",
        "numero_2 = 10\n",
        "\n",
        "# condicional (if)\n",
        "if numero_1 > numero_2:\n",
        "  print(\"numero_1 es mayor\")\n",
        "else:\n",
        "  print(\"numero_1 no es mayor\")\n",
        "  \n",
        "# Nota: Muy importante la identación."
      ],
      "execution_count": null,
      "outputs": [
        {
          "output_type": "stream",
          "text": [
            "numero_1 es mayor\n"
          ],
          "name": "stdout"
        }
      ]
    },
    {
      "cell_type": "code",
      "metadata": {
        "id": "C96DEUHObCnR"
      },
      "source": [
        "nota = int(input(\"Ingrese su nota: \"))\n",
        "\n",
        "if nota < 3:\n",
        "  print(\"Perdio\")\n",
        "elif nota <= 4:\n",
        "  print(\"gano\")\n",
        "elif nota <= 5:\n",
        "  print(\"exelente\")\n",
        "else:\n",
        "  print(\"nota incorrecta\")\n",
        "\n"
      ],
      "execution_count": null,
      "outputs": []
    },
    {
      "cell_type": "code",
      "metadata": {
        "id": "8eftZJANeGiw"
      },
      "source": [
        "# concatenacion de operadores de condicion\n",
        "\n",
        "edad = int(input(\"ingrese edad: \\n\"))\n",
        "if 0<edad<100:\n",
        "  print(\"edad correcta\")\n",
        "else:\n",
        "  print(\"edad incorrecta\")\n"
      ],
      "execution_count": null,
      "outputs": []
    },
    {
      "cell_type": "code",
      "metadata": {
        "id": "3NIlW6v4SDJF",
        "outputId": "c3b17fcc-58db-46ed-8491-3e5a2e0ac356",
        "colab": {
          "base_uri": "https://localhost:8080/",
          "height": 51
        }
      },
      "source": [
        "number = int(input(\"Escribe un número: \"))\n",
        "\n",
        "def is_prime(number):\n",
        "  if number < 2:\n",
        "    return False\n",
        "  elif number == 2:\n",
        "    return True\n",
        "  elif number > 2 and number % 2 == 0:\n",
        "    return False\n",
        "  else:\n",
        "    for i in range(3, number):\n",
        "      if number % i == 0:\n",
        "        return False\n",
        "      \n",
        "  return True\n",
        "\n",
        "result = is_prime(number)\n",
        "if result is True:\n",
        "  print(\"Tu número es primo\")\n",
        "else:\n",
        "  print(\"Tu número no es primo\")"
      ],
      "execution_count": null,
      "outputs": [
        {
          "output_type": "stream",
          "text": [
            "Escribe un número: 7\n",
            "Tu número es primo\n"
          ],
          "name": "stdout"
        }
      ]
    },
    {
      "cell_type": "markdown",
      "metadata": {
        "id": "4PVXdOPxh7Ok"
      },
      "source": [
        "**Operadores logicos (and, or, in )**"
      ]
    },
    {
      "cell_type": "markdown",
      "metadata": {
        "id": "yjMk6x0DjF2w"
      },
      "source": [
        "### Ciclos-For"
      ]
    },
    {
      "cell_type": "code",
      "metadata": {
        "id": "oCC0MOhPVjQ3",
        "outputId": "324b274f-ab23-4082-d19d-5e8a4d5581f7",
        "colab": {
          "base_uri": "https://localhost:8080/",
          "height": 33
        }
      },
      "source": [
        "# Generador de rangos (secuencias)\n",
        "range(0,5)"
      ],
      "execution_count": null,
      "outputs": [
        {
          "output_type": "execute_result",
          "data": {
            "text/plain": [
              "range(0, 5)"
            ]
          },
          "metadata": {
            "tags": []
          },
          "execution_count": 7
        }
      ]
    },
    {
      "cell_type": "code",
      "metadata": {
        "id": "iGZzOag7V22S",
        "outputId": "5f5dbb38-a5e1-4e45-cb7a-7def2fc0e13c",
        "colab": {
          "base_uri": "https://localhost:8080/",
          "height": 100
        }
      },
      "source": [
        "# imprimir rando de 0 a 5 en pasos de 2\n",
        "for i in range(0,10,2):\n",
        "  print(i)"
      ],
      "execution_count": null,
      "outputs": [
        {
          "output_type": "stream",
          "text": [
            "0\n",
            "2\n",
            "4\n",
            "6\n",
            "8\n"
          ],
          "name": "stdout"
        }
      ]
    },
    {
      "cell_type": "code",
      "metadata": {
        "id": "F69-AW15WbXF",
        "outputId": "d8aa19b4-0224-4b3e-9a30-32cda29045b6",
        "colab": {
          "base_uri": "https://localhost:8080/",
          "height": 183
        }
      },
      "source": [
        "for i in range(30):\n",
        "  if i % 3 != 0:\n",
        "    continue\n",
        "  else:\n",
        "    print(i**2)"
      ],
      "execution_count": null,
      "outputs": [
        {
          "output_type": "stream",
          "text": [
            "0\n",
            "9\n",
            "36\n",
            "81\n",
            "144\n",
            "225\n",
            "324\n",
            "441\n",
            "576\n",
            "729\n"
          ],
          "name": "stdout"
        }
      ]
    },
    {
      "cell_type": "code",
      "metadata": {
        "id": "jr-7uNq6XsWo",
        "outputId": "30f84e05-67f8-43db-ec12-1e49d9aa5dc3",
        "colab": {
          "base_uri": "https://localhost:8080/",
          "height": 166
        }
      },
      "source": [
        "# break para romper ciclos.\n",
        "for i in range(30):\n",
        "  if i % 2 == 0:\n",
        "    print(i)\n",
        "  elif i == 17:\n",
        "    break"
      ],
      "execution_count": null,
      "outputs": [
        {
          "output_type": "stream",
          "text": [
            "0\n",
            "2\n",
            "4\n",
            "6\n",
            "8\n",
            "10\n",
            "12\n",
            "14\n",
            "16\n"
          ],
          "name": "stdout"
        }
      ]
    },
    {
      "cell_type": "markdown",
      "metadata": {
        "id": "NpYeOGKINMjU"
      },
      "source": [
        "### While loop\n",
        "\n",
        "Otra forma de hacer iteraciones es con el while loop, éste ciclo se ejecuta MIENTRAS la condición se evalúe como verdadera, el ciclo termina cuando la evaluación resulta en falso.\n"
      ]
    },
    {
      "cell_type": "code",
      "metadata": {
        "id": "9TvKQSrGN-KC",
        "outputId": "ed1c49a7-d071-4d82-85de-5af1fe4e61ba",
        "colab": {
          "base_uri": "https://localhost:8080/",
          "height": 100
        }
      },
      "source": [
        "i = 0\n",
        "while i < 5:\n",
        "  print(i)\n",
        "  i += 1"
      ],
      "execution_count": null,
      "outputs": [
        {
          "output_type": "stream",
          "text": [
            "0\n",
            "1\n",
            "2\n",
            "3\n",
            "4\n"
          ],
          "name": "stdout"
        }
      ]
    },
    {
      "cell_type": "markdown",
      "metadata": {
        "id": "9UEgjz7XLtNb"
      },
      "source": [
        "Función para mirar si nuestra palabra es un palíndromo"
      ]
    },
    {
      "cell_type": "code",
      "metadata": {
        "id": "bdxUY9qKEhDb"
      },
      "source": [
        "# para verificar si nuestra palabra es o no un palindromo\n",
        "def palindromo(word):\n",
        "  revertida = word[::-1]\n",
        "  if word == revertida:\n",
        "    return True\n",
        "  else:\n",
        "    return False"
      ],
      "execution_count": null,
      "outputs": []
    },
    {
      "cell_type": "code",
      "metadata": {
        "id": "xkqi7OtZGiAb",
        "outputId": "5e8e677b-1525-4158-b30d-b75f560ed0fc",
        "colab": {
          "base_uri": "https://localhost:8080/",
          "height": 34
        }
      },
      "source": [
        "palindromo(\"ojo\")"
      ],
      "execution_count": null,
      "outputs": [
        {
          "output_type": "execute_result",
          "data": {
            "text/plain": [
              "True"
            ]
          },
          "metadata": {
            "tags": []
          },
          "execution_count": 2
        }
      ]
    },
    {
      "cell_type": "markdown",
      "metadata": {
        "id": "Z0kI5s4yFbZv"
      },
      "source": [
        "**Funciones**\n",
        "---\n",
        "Son un bloque de código que realizan una tarea especifica, Las funciones pueden o no devolver valores, pueden tener parámetros o no, las funciones se crean con la palabra reservada ```def``` (definir).\n",
        "\n",
        "Fujo: de arriba y hacia abajo de izquierda a derecha, esto cambia si definimos funciones. \n",
        "\n"
      ]
    },
    {
      "cell_type": "code",
      "metadata": {
        "id": "tfS5afWONtUA"
      },
      "source": [
        "# creando (declarando) función\n",
        "def nombre_de_la_funcion(a, b):\n",
        "  c=a**b\n",
        "  return(c)\n",
        "  \n",
        "# Nota: return es opcional"
      ],
      "execution_count": null,
      "outputs": []
    },
    {
      "cell_type": "code",
      "metadata": {
        "id": "udqBhrTBOz5A"
      },
      "source": [
        "# llamado a la función\n",
        "nombre_de_la_funcion(a=2, b=3)"
      ],
      "execution_count": null,
      "outputs": []
    },
    {
      "cell_type": "code",
      "metadata": {
        "id": "apadlDcC5KVO"
      },
      "source": [
        "# otra función \n",
        "import turtle\n",
        "def main():\n",
        "  window = turtle.Screen() # abrir una ventana\n",
        "  esteban = turtle.Turtle() # eneramos una tortuga\n",
        "  make_square(esteban) # llamado a la funcion hacer un cuadraro\n",
        "\n",
        "def make_square(esteban):\n",
        "  length = int(input(\"Tamañano del cuadrado: \")) # piediendo el tamaño de la tortuga\n",
        "  for i in range(4):\n",
        "    make_line_and_turn(esteban, length)\n",
        "\n",
        "def make_line_and_turn(dave, length):\n",
        "  esteban.forward(length)\n",
        "  esteban.left(90)\n",
        "\n",
        "if __name__ == '__main__':\n",
        "  main()"
      ],
      "execution_count": null,
      "outputs": []
    },
    {
      "cell_type": "code",
      "metadata": {
        "id": "fZkTFW58De7v",
        "outputId": "d642747f-e7e5-4d04-e540-1297c61f363c",
        "colab": {
          "base_uri": "https://localhost:8080/",
          "height": 85
        }
      },
      "source": [
        "#\n",
        "def foreing_exchange_calculator(ammount):\n",
        "  col_to_usa_rate = 3000\n",
        "  return(col_to_usa_rate*ammount)\n",
        "\n",
        "print(\"CALCULADORA DE DIVISAS\")\n",
        "print(\"\")\n",
        "ammount = float(input(\"Ingrese cantidad de dolares: \"))\n",
        "result = foreing_exchange_calculator(ammount)\n",
        "print(\"${} dolares son ${} pesos\".format(ammount, result))"
      ],
      "execution_count": null,
      "outputs": [
        {
          "output_type": "stream",
          "text": [
            "CALCULADORA DE DIVISAS\n",
            "\n",
            "Ingrese cantidad de dolares: 5\n",
            "$5.0 dolares son $15000.0 pesos\n"
          ],
          "name": "stdout"
        }
      ]
    },
    {
      "cell_type": "code",
      "metadata": {
        "id": "Jn2y5XJ_O4vu",
        "outputId": "729c852c-7853-4b24-d9df-2bc8f04f1ee7",
        "colab": {
          "base_uri": "https://localhost:8080/",
          "height": 34
        }
      },
      "source": [
        "True or False "
      ],
      "execution_count": null,
      "outputs": [
        {
          "output_type": "execute_result",
          "data": {
            "text/plain": [
              "True"
            ]
          },
          "metadata": {
            "tags": []
          },
          "execution_count": 13
        }
      ]
    },
    {
      "cell_type": "markdown",
      "metadata": {
        "id": "x8IRQcn3XiV1"
      },
      "source": [
        "## **Estructuras de datos**\n",
        "---"
      ]
    },
    {
      "cell_type": "markdown",
      "metadata": {
        "id": "9_mUrZswRfGx"
      },
      "source": [
        "### Listas\n",
        "\n",
        "Estructura de datos que permite alamcenar valores (lista = array en R).\n",
        "\n",
        "Puede almacenar diferentes tipos de valores, podemos acceder en ella a través de indices\n",
        "\n",
        "* Se puede sumar listas\n",
        "* Se puede multiplicar listas\n",
        "* Son mutables\n",
        "\n",
        "Consultar métodos para listas\n",
        "\n"
      ]
    },
    {
      "cell_type": "code",
      "metadata": {
        "id": "0-oqqhUBH6yQ"
      },
      "source": [
        "# creando una lista vacía\n",
        "my_first_list = list()"
      ],
      "execution_count": null,
      "outputs": []
    },
    {
      "cell_type": "code",
      "metadata": {
        "id": "Qgi5iAGKIBJ0",
        "outputId": "86cab36b-9846-4647-910a-3caa3ef7b0e8",
        "colab": {
          "base_uri": "https://localhost:8080/"
        }
      },
      "source": [
        "# agregando elemento a la lista\n",
        "my_first_list.append(\"first_element\")\n",
        "print(my_first_list)"
      ],
      "execution_count": null,
      "outputs": [
        {
          "output_type": "stream",
          "name": "stdout",
          "text": [
            "['first_element']\n"
          ]
        }
      ]
    },
    {
      "cell_type": "code",
      "metadata": {
        "id": "muIUZIB8R2d5",
        "outputId": "48ec0ec2-76e1-45c7-c4ad-38ed56ec8a5e",
        "colab": {
          "base_uri": "https://localhost:8080/"
        }
      },
      "source": [
        "# Creando lista\n",
        "my_second_list = [8, 8.8, \"UNAL\", \"Med\", 100, True, False]\n",
        "# tipo\n",
        "type(my_second_list)"
      ],
      "execution_count": null,
      "outputs": [
        {
          "output_type": "execute_result",
          "data": {
            "text/plain": [
              "list"
            ]
          },
          "metadata": {},
          "execution_count": 59
        }
      ]
    },
    {
      "cell_type": "code",
      "metadata": {
        "id": "JjTzcS6TzEyT",
        "outputId": "32fac14e-c579-4241-c61a-7ad3495e3ad9",
        "colab": {
          "base_uri": "https://localhost:8080/"
        }
      },
      "source": [
        "# Sumando listas \n",
        "total_list = my_first_list + my_second_list\n",
        "print(total_list)"
      ],
      "execution_count": null,
      "outputs": [
        {
          "output_type": "stream",
          "name": "stdout",
          "text": [
            "['first_element', 8, 8.8, 'UNAL', 'Med', 100, True, False]\n"
          ]
        }
      ]
    },
    {
      "cell_type": "markdown",
      "metadata": {
        "id": "mzv32HXJU4Iq"
      },
      "source": [
        "Accediendo a elementos **(slices)**"
      ]
    },
    {
      "cell_type": "code",
      "metadata": {
        "id": "OXoZdZBWTOIh",
        "outputId": "bc030ac0-a5f3-4936-dbe0-7ea9ee34d0c9",
        "colab": {
          "base_uri": "https://localhost:8080/"
        }
      },
      "source": [
        "#Imprimiendo elementos\n",
        "print(total_list[:])"
      ],
      "execution_count": null,
      "outputs": [
        {
          "output_type": "stream",
          "name": "stdout",
          "text": [
            "['first_element', 8, 8.8, 'UNAL', 'Med', 100, True, False]\n"
          ]
        }
      ]
    },
    {
      "cell_type": "code",
      "metadata": {
        "id": "UiRGyjgmTa5Y",
        "outputId": "6a8ce210-3aaa-498a-c398-dbbd5a3ec5a3",
        "colab": {
          "base_uri": "https://localhost:8080/",
          "height": 35
        }
      },
      "source": [
        "# Accediendo a un elemento\n",
        "total_list[0]"
      ],
      "execution_count": null,
      "outputs": [
        {
          "output_type": "execute_result",
          "data": {
            "text/plain": [
              "'first_element'"
            ],
            "application/vnd.google.colaboratory.intrinsic+json": {
              "type": "string"
            }
          },
          "metadata": {},
          "execution_count": 53
        }
      ]
    },
    {
      "cell_type": "code",
      "metadata": {
        "id": "ixZ0NmyE0UEE",
        "outputId": "2df9869a-427e-4077-d0d7-2fb376a4c051",
        "colab": {
          "base_uri": "https://localhost:8080/",
          "height": 34
        }
      },
      "source": [
        "# Modificando elemento de una lista. \n",
        "mi_lista[0] = \"Unalytics_team\"\n",
        "print(mi_lista)"
      ],
      "execution_count": null,
      "outputs": [
        {
          "output_type": "stream",
          "text": [
            "['Unalytics_team', 8.8, 'Unalytics', 'UN', 100, True, False]\n"
          ],
          "name": "stdout"
        }
      ]
    },
    {
      "cell_type": "code",
      "metadata": {
        "id": "B1K6FM3sUXbC",
        "outputId": "9f42802b-450d-47b3-b6b3-fa4b075fa1af",
        "colab": {
          "base_uri": "https://localhost:8080/",
          "height": 33
        }
      },
      "source": [
        "# Accediendo a un conjunto de elementos [2:] desde el tercer elemnto hasta el final de la lista\n",
        "mi_lista[2:]"
      ],
      "execution_count": null,
      "outputs": [
        {
          "output_type": "execute_result",
          "data": {
            "text/plain": [
              "['Unalytics', 'UN', 100, True, False]"
            ]
          },
          "metadata": {
            "tags": []
          },
          "execution_count": 23
        }
      ]
    },
    {
      "cell_type": "code",
      "metadata": {
        "id": "zhWbAMOIKrdX",
        "outputId": "92b5c69a-5e8c-48b1-b120-e33fcd5b92c5",
        "colab": {
          "base_uri": "https://localhost:8080/",
          "height": 34
        }
      },
      "source": [
        "# borrando el primer elemnto\n",
        "del mi_lista[0]\n",
        "print(mi_lista)"
      ],
      "execution_count": null,
      "outputs": [
        {
          "output_type": "stream",
          "text": [
            "[8.8, 'Unalytics', 'UN', 100, True, False]\n"
          ],
          "name": "stdout"
        }
      ]
    },
    {
      "cell_type": "markdown",
      "metadata": {
        "id": "fHlmitHHUyKy"
      },
      "source": [
        "Agregando elementos **(appen, insert, extend, index, in)**"
      ]
    },
    {
      "cell_type": "code",
      "metadata": {
        "id": "NTCvgXJnUxXh"
      },
      "source": [
        "mi_lista.append(\"Colombia\")"
      ],
      "execution_count": null,
      "outputs": []
    },
    {
      "cell_type": "code",
      "metadata": {
        "id": "uk_qzTPyVPDi"
      },
      "source": [
        "mi_lista.insert(0, \"Medellín\")"
      ],
      "execution_count": null,
      "outputs": []
    },
    {
      "cell_type": "code",
      "metadata": {
        "id": "v5ihsiIvVicB"
      },
      "source": [
        "mi_lista.extend([\"otra lista\", \"Sabrina\"])"
      ],
      "execution_count": null,
      "outputs": []
    },
    {
      "cell_type": "code",
      "metadata": {
        "id": "M6jPeyEOV1RS",
        "outputId": "a1b4415c-0586-4895-e8e1-ff636bb80822",
        "colab": {
          "base_uri": "https://localhost:8080/",
          "height": 34
        }
      },
      "source": [
        "mi_lista.index(\"Unalytics\")"
      ],
      "execution_count": null,
      "outputs": [
        {
          "output_type": "execute_result",
          "data": {
            "text/plain": [
              "3"
            ]
          },
          "metadata": {
            "tags": []
          },
          "execution_count": 61
        }
      ]
    },
    {
      "cell_type": "code",
      "metadata": {
        "id": "-iepkCW_WMTd",
        "outputId": "6a731afe-653c-464a-ec33-54aebdc13c07",
        "colab": {
          "base_uri": "https://localhost:8080/",
          "height": 34
        }
      },
      "source": [
        "\"Unalytics\" in mi_lista"
      ],
      "execution_count": null,
      "outputs": [
        {
          "output_type": "execute_result",
          "data": {
            "text/plain": [
              "True"
            ]
          },
          "metadata": {
            "tags": []
          },
          "execution_count": 71
        }
      ]
    },
    {
      "cell_type": "markdown",
      "metadata": {
        "id": "pUG0q3VeLTfO"
      },
      "source": [
        "Casting Strings y Listas"
      ]
    },
    {
      "cell_type": "code",
      "metadata": {
        "id": "8vd4xAwVLSln",
        "outputId": "f6eac815-857c-4bde-fc6f-65bf5f9a50d8",
        "colab": {
          "base_uri": "https://localhost:8080/",
          "height": 33
        }
      },
      "source": [
        "# cast\n",
        "string = \"Unalytics\"\n",
        "mi_lista = list(string)\n",
        "mi_lista"
      ],
      "execution_count": null,
      "outputs": [
        {
          "output_type": "execute_result",
          "data": {
            "text/plain": [
              "['U', 'n', 'a', 'l', 'y', 't', 'i', 'c', 's']"
            ]
          },
          "metadata": {
            "tags": []
          },
          "execution_count": 27
        }
      ]
    },
    {
      "cell_type": "markdown",
      "metadata": {
        "id": "QETSnonSXY_9"
      },
      "source": [
        "### **Tuplas**\n",
        "\n",
        "\n",
        "Las tuplas son listan inmutable (no podemos modificarlas).\n",
        "\n",
        "permiten comprobación (in)\n",
        "\n",
        "Ventajas: Mayor rendimiento\n",
        "\n",
        "Convertir tupla a lista : list()\n",
        "\n",
        "Convertir lista a tupla: tuple()\n",
        "\n",
        "Desempaquetado de tupla. "
      ]
    },
    {
      "cell_type": "code",
      "metadata": {
        "id": "UfPxFx-bX3L6"
      },
      "source": [
        "# Creando tupla\n",
        "mytuple = (\"1\", 2, 3, \"Unalytics\", True, False)"
      ],
      "execution_count": null,
      "outputs": []
    },
    {
      "cell_type": "code",
      "metadata": {
        "id": "2-9z5YQVYgdU",
        "outputId": "70a56aac-878a-49ee-df6f-1b312d0911df",
        "colab": {
          "base_uri": "https://localhost:8080/",
          "height": 34
        }
      },
      "source": [
        "mi_tupla"
      ],
      "execution_count": null,
      "outputs": [
        {
          "output_type": "execute_result",
          "data": {
            "text/plain": [
              "('1', 2, 3, 'Unalytics', True, False)"
            ]
          },
          "metadata": {
            "tags": []
          },
          "execution_count": 80
        }
      ]
    },
    {
      "cell_type": "code",
      "metadata": {
        "id": "GfVb_0YhZ8LO",
        "outputId": "4a5ad36f-9b9e-4805-feed-9e77c78901f7",
        "colab": {
          "base_uri": "https://localhost:8080/",
          "height": 34
        }
      },
      "source": [
        "len(mi_tupla)"
      ],
      "execution_count": null,
      "outputs": [
        {
          "output_type": "execute_result",
          "data": {
            "text/plain": [
              "6"
            ]
          },
          "metadata": {
            "tags": []
          },
          "execution_count": 81
        }
      ]
    },
    {
      "cell_type": "markdown",
      "metadata": {
        "id": "ANvzLU7BaxtI"
      },
      "source": [
        "### **Diccionarios**\n",
        "___\n",
        "\n",
        "Los datos se almacenan como **Clave : Valor**\n",
        "\n",
        "Cualquier tipo de datos (lista, tuplas, otro diccionario)"
      ]
    },
    {
      "cell_type": "code",
      "source": [
        "mydict = dict()"
      ],
      "metadata": {
        "id": "igPtnN4wJAFP"
      },
      "execution_count": null,
      "outputs": []
    },
    {
      "cell_type": "code",
      "metadata": {
        "id": "5V6cioiea02G",
        "outputId": "22923dca-0b11-42d5-b0f1-a0f31b40573a",
        "colab": {
          "base_uri": "https://localhost:8080/",
          "height": 66
        }
      },
      "source": [
        "mi_diccionario = {\"Colombia\":[\"Medellín\", \"Bogotá\"], \n",
        "                  \"USA\":\"New york\", \n",
        "                  \"numeros\":(1,2,3)}\n",
        "\n",
        "for key in mi_diccionario.items():\n",
        "  print(key)\n"
      ],
      "execution_count": null,
      "outputs": [
        {
          "output_type": "stream",
          "text": [
            "('Colombia', ['Medellín', 'Bogotá'])\n",
            "('USA', 'New york')\n",
            "('numeros', (1, 2, 3))\n"
          ],
          "name": "stdout"
        }
      ]
    },
    {
      "cell_type": "code",
      "metadata": {
        "id": "v0W6BHJubrEu",
        "outputId": "7b06fee4-ec46-42bc-c8c7-f9f741a4ba8a",
        "colab": {
          "base_uri": "https://localhost:8080/",
          "height": 34
        }
      },
      "source": [
        "mi_diccionario[\"Colombia\"][:]"
      ],
      "execution_count": null,
      "outputs": [
        {
          "output_type": "execute_result",
          "data": {
            "text/plain": [
              "['Medellín', 'Bogotá']"
            ]
          },
          "metadata": {
            "tags": []
          },
          "execution_count": 90
        }
      ]
    },
    {
      "cell_type": "code",
      "metadata": {
        "id": "NUYgf006cMFN"
      },
      "source": [
        "mi_diccionario[\"Animales\"]=[\"perro\", \"gato\"]"
      ],
      "execution_count": null,
      "outputs": []
    },
    {
      "cell_type": "code",
      "metadata": {
        "id": "Nh_14Y3McW90",
        "outputId": "0c18c84b-10db-418e-a24e-e6e0def3969a",
        "colab": {
          "base_uri": "https://localhost:8080/",
          "height": 68
        }
      },
      "source": [
        "mi_diccionario"
      ],
      "execution_count": null,
      "outputs": [
        {
          "output_type": "execute_result",
          "data": {
            "text/plain": [
              "{'Animales': ['perro', 'gato'],\n",
              " 'Colombia': ['Medellín', 'Bogotá'],\n",
              " 'numeros': (1, 2, 3)}"
            ]
          },
          "metadata": {
            "tags": []
          },
          "execution_count": 99
        }
      ]
    },
    {
      "cell_type": "code",
      "metadata": {
        "id": "5vIaN3nZcrMf"
      },
      "source": [
        "# Eliminando valores\n",
        "del mi_diccionario[\"USA\"]"
      ],
      "execution_count": null,
      "outputs": []
    },
    {
      "cell_type": "code",
      "metadata": {
        "id": "nO45NjPVdY3A",
        "outputId": "a19aa523-d40f-4fcb-ab4c-8e34361b321d",
        "colab": {
          "base_uri": "https://localhost:8080/",
          "height": 34
        }
      },
      "source": [
        "mi_diccionario.keys()"
      ],
      "execution_count": null,
      "outputs": [
        {
          "output_type": "execute_result",
          "data": {
            "text/plain": [
              "dict_keys(['Colombia', 'numeros', 'Animales'])"
            ]
          },
          "metadata": {
            "tags": []
          },
          "execution_count": 101
        }
      ]
    },
    {
      "cell_type": "markdown",
      "metadata": {
        "id": "sqZVYu3YvzCF"
      },
      "source": [
        "Más sobre diccionarios"
      ]
    },
    {
      "cell_type": "code",
      "metadata": {
        "id": "GdYi0J1XvvZU",
        "outputId": "8a07d241-a30b-4821-ad81-9f91498ca394",
        "colab": {
          "base_uri": "https://localhost:8080/",
          "height": 34
        }
      },
      "source": [
        "mi_diccionario = {}\n",
        "mi_diccionario['primer_elemento'] = \"hola\"\n",
        "mi_diccionario['segundo_elemnto'] = \"adios\"\n",
        "mi_diccionario"
      ],
      "execution_count": null,
      "outputs": [
        {
          "output_type": "execute_result",
          "data": {
            "text/plain": [
              "{'primer_elemento': 'hola', 'segundo_elemnto': 'adios'}"
            ]
          },
          "metadata": {
            "tags": []
          },
          "execution_count": 5
        }
      ]
    },
    {
      "cell_type": "markdown",
      "metadata": {
        "id": "yEumU-eTwVCK"
      },
      "source": [
        "Iterando sobre diccionarios."
      ]
    },
    {
      "cell_type": "code",
      "metadata": {
        "id": "ynzyE96dwL-h",
        "outputId": "cd93e946-cd01-4c1b-f66c-89cbc8ab2aa1",
        "colab": {
          "base_uri": "https://localhost:8080/",
          "height": 34
        }
      },
      "source": [
        "calificaciones = {'Algoritmos':9, 'Matematicas':10, 'web':8, 'BD':10 }\n",
        "calificaciones"
      ],
      "execution_count": null,
      "outputs": [
        {
          "output_type": "execute_result",
          "data": {
            "text/plain": [
              "{'Algoritmos': 9, 'BD': 10, 'Matematicas': 10, 'web': 8}"
            ]
          },
          "metadata": {
            "tags": []
          },
          "execution_count": 6
        }
      ]
    },
    {
      "cell_type": "code",
      "metadata": {
        "id": "AngIdNFAwxYh",
        "outputId": "f96012e0-9cb6-4ea5-c388-97c6ce12b047",
        "colab": {
          "base_uri": "https://localhost:8080/",
          "height": 85
        }
      },
      "source": [
        "# iterando sobre las claves.\n",
        "for key in calificaciones.keys():\n",
        "  print(key)"
      ],
      "execution_count": null,
      "outputs": [
        {
          "output_type": "stream",
          "text": [
            "Algoritmos\n",
            "Matematicas\n",
            "web\n",
            "BD\n"
          ],
          "name": "stdout"
        }
      ]
    },
    {
      "cell_type": "code",
      "metadata": {
        "id": "03x3rrA9w46c",
        "outputId": "b142b4b5-bf6b-4b1a-af09-8ed0bccd7600",
        "colab": {
          "base_uri": "https://localhost:8080/",
          "height": 85
        }
      },
      "source": [
        "# Iterando sobre los valores.\n",
        "for value in calificaciones.values():\n",
        "  print(value)"
      ],
      "execution_count": null,
      "outputs": [
        {
          "output_type": "stream",
          "text": [
            "9\n",
            "10\n",
            "8\n",
            "10\n"
          ],
          "name": "stdout"
        }
      ]
    },
    {
      "cell_type": "code",
      "metadata": {
        "id": "GNoRACcZxXb-",
        "outputId": "2075241a-4c35-4d47-be39-7d620a336be4",
        "colab": {
          "base_uri": "https://localhost:8080/",
          "height": 85
        }
      },
      "source": [
        "# sobre los key y los valores\n",
        "for key, value in calificaciones.items():\n",
        "  print('LLave:{} y Valores: {}'.format(key, value))"
      ],
      "execution_count": null,
      "outputs": [
        {
          "output_type": "stream",
          "text": [
            "LLave:Algoritmos y Valores: 9\n",
            "LLave:Matematicas y Valores: 10\n",
            "LLave:web y Valores: 8\n",
            "LLave:BD y Valores: 10\n"
          ],
          "name": "stdout"
        }
      ]
    },
    {
      "cell_type": "code",
      "metadata": {
        "id": "FNTcjfYRulIX"
      },
      "source": [
        ""
      ],
      "execution_count": null,
      "outputs": []
    },
    {
      "cell_type": "markdown",
      "metadata": {
        "id": "78mk4ksVunhN"
      },
      "source": [
        "### **Set** (conjunto)\n",
        "---\n",
        "Los sets son muy parecidos a las listas solo que no permiten elementos repetidos\n",
        "**Operaciones:** (Operaciones entre conjuntos)\n",
        "* Union (sin repetir elementos)\n",
        "* Intersección (elementos en común)\n",
        "* Diferencia\n",
        "\n"
      ]
    },
    {
      "cell_type": "code",
      "metadata": {
        "id": "oF4PPpXXu1Sl"
      },
      "source": [
        "# Definiendo los sets (conjuntos)\n",
        "s = set([1, 2, 3])\n",
        "t = set([3, 4, 5])"
      ],
      "execution_count": null,
      "outputs": []
    },
    {
      "cell_type": "code",
      "metadata": {
        "id": "2V-HImXwvx2H",
        "outputId": "a1090b97-84e7-45ef-d01d-18f42d2ded77",
        "colab": {
          "base_uri": "https://localhost:8080/",
          "height": 34
        }
      },
      "source": [
        "# Union\n",
        "s.union(t)"
      ],
      "execution_count": null,
      "outputs": [
        {
          "output_type": "execute_result",
          "data": {
            "text/plain": [
              "{1, 2, 3, 4, 5}"
            ]
          },
          "metadata": {
            "tags": []
          },
          "execution_count": 3
        }
      ]
    },
    {
      "cell_type": "code",
      "metadata": {
        "id": "j4N4CpV4v2uI",
        "outputId": "5532face-0455-4ddb-9bf6-948faf1e9f7c",
        "colab": {
          "base_uri": "https://localhost:8080/",
          "height": 34
        }
      },
      "source": [
        "# Intersección\n",
        "s.intersection(t)"
      ],
      "execution_count": null,
      "outputs": [
        {
          "output_type": "execute_result",
          "data": {
            "text/plain": [
              "{3}"
            ]
          },
          "metadata": {
            "tags": []
          },
          "execution_count": 5
        }
      ]
    },
    {
      "cell_type": "code",
      "metadata": {
        "id": "HhVHXimyv7Z5",
        "outputId": "7759ddb1-ecc2-4c6f-ef26-fadbebe4483f",
        "colab": {
          "base_uri": "https://localhost:8080/",
          "height": 34
        }
      },
      "source": [
        "# Diferencia\n",
        "s.difference(t)"
      ],
      "execution_count": null,
      "outputs": [
        {
          "output_type": "execute_result",
          "data": {
            "text/plain": [
              "{1, 2}"
            ]
          },
          "metadata": {
            "tags": []
          },
          "execution_count": 7
        }
      ]
    },
    {
      "cell_type": "code",
      "metadata": {
        "id": "SgLAVrKIwIGu",
        "outputId": "aed3f4a4-ddd8-404c-90ad-908751603b00",
        "colab": {
          "base_uri": "https://localhost:8080/",
          "height": 34
        }
      },
      "source": [
        "# Como sabemos si un elemento esta dentro de un set (3 esta en el set s ??)\n",
        "3 in s"
      ],
      "execution_count": null,
      "outputs": [
        {
          "output_type": "execute_result",
          "data": {
            "text/plain": [
              "True"
            ]
          },
          "metadata": {
            "tags": []
          },
          "execution_count": 8
        }
      ]
    },
    {
      "cell_type": "code",
      "metadata": {
        "id": "c_poRa2xwTKg",
        "outputId": "8b74440f-f07d-41a8-dfb0-85086db2e75c",
        "colab": {
          "base_uri": "https://localhost:8080/",
          "height": 35
        }
      },
      "source": [
        "3 not in s"
      ],
      "execution_count": null,
      "outputs": [
        {
          "output_type": "execute_result",
          "data": {
            "text/plain": [
              "False"
            ]
          },
          "metadata": {
            "tags": []
          },
          "execution_count": 3
        }
      ]
    },
    {
      "cell_type": "code",
      "source": [
        ""
      ],
      "metadata": {
        "id": "OB7v9ADFJ3Mx"
      },
      "execution_count": null,
      "outputs": []
    },
    {
      "cell_type": "code",
      "source": [
        "myset = {\"1\", 2, 3, \"UNAL\", True, False }\n",
        "myset"
      ],
      "metadata": {
        "colab": {
          "base_uri": "https://localhost:8080/"
        },
        "id": "3Tqpqn6EJyi8",
        "outputId": "3323d5ba-8c36-4c25-c570-47bc8c3ba694"
      },
      "execution_count": null,
      "outputs": [
        {
          "output_type": "execute_result",
          "data": {
            "text/plain": [
              "{'1', 2, 3, False, True, 'UNAL'}"
            ]
          },
          "metadata": {},
          "execution_count": 62
        }
      ]
    },
    {
      "cell_type": "markdown",
      "metadata": {
        "id": "LBrRlnwF7Dat"
      },
      "source": [
        "### Dictionary comprehension - list comprehension\n",
        "---"
      ]
    },
    {
      "cell_type": "code",
      "metadata": {
        "id": "Vpph2YM37Lzc"
      },
      "source": [
        "# Hagamos una lista de números pares.\n",
        "even = []\n",
        "for num in range(0, 21):\n",
        "  if num % 2 == 0:\n",
        "    even.append(num) "
      ],
      "execution_count": null,
      "outputs": []
    },
    {
      "cell_type": "code",
      "metadata": {
        "id": "7VwXzsmc7sPL",
        "outputId": "9330e7bf-dd3d-4589-ea7a-d46e18508378",
        "colab": {
          "base_uri": "https://localhost:8080/"
        }
      },
      "source": [
        "# Imprimiendo números pares. \n",
        "even"
      ],
      "execution_count": null,
      "outputs": [
        {
          "output_type": "execute_result",
          "data": {
            "text/plain": [
              "[0, 2, 4, 6, 8, 10, 12, 14, 16, 18, 20]"
            ]
          },
          "metadata": {},
          "execution_count": 64
        }
      ]
    },
    {
      "cell_type": "markdown",
      "metadata": {
        "id": "x_cr_gNx73xI"
      },
      "source": [
        "**comprehension**"
      ]
    },
    {
      "cell_type": "code",
      "metadata": {
        "id": "rKlOY5Tm72oI",
        "outputId": "61705ada-03ff-49bf-f080-b36dba3b90a0",
        "colab": {
          "base_uri": "https://localhost:8080/"
        }
      },
      "source": [
        "# list comprehension\n",
        "even = [num for num in range(0, 21) if num % 2 == 0]\n",
        "even"
      ],
      "execution_count": null,
      "outputs": [
        {
          "output_type": "execute_result",
          "data": {
            "text/plain": [
              "[0, 2, 4, 6, 8, 10, 12, 14, 16, 18, 20]"
            ]
          },
          "metadata": {},
          "execution_count": 65
        }
      ]
    },
    {
      "cell_type": "code",
      "source": [
        "newlist = [x for x in range(10)]"
      ],
      "metadata": {
        "id": "nt0XH2qXPyHI"
      },
      "execution_count": null,
      "outputs": []
    },
    {
      "cell_type": "markdown",
      "metadata": {
        "id": "wYyxdHBk8qBg"
      },
      "source": [
        "Hagamos un diccionario con el número como clave y el cudrado de ese número como su valor"
      ]
    },
    {
      "cell_type": "code",
      "metadata": {
        "id": "usSZZlPN80Q_",
        "outputId": "5b8b9ab7-4c00-4715-c21c-a3637126f800",
        "colab": {
          "base_uri": "https://localhost:8080/",
          "height": 35
        }
      },
      "source": [
        "# Hagamoslo de la manera tradicional\n",
        "cuadrados = {}\n",
        "for num in range(1, 11):\n",
        "  cuadra = num**2\n",
        "  cuadrados[num] = cuadra \n",
        "print(cuadrados)\n",
        "\n"
      ],
      "execution_count": null,
      "outputs": [
        {
          "output_type": "stream",
          "text": [
            "{1: 1, 2: 4, 3: 9, 4: 16, 5: 25, 6: 36, 7: 49, 8: 64, 9: 81, 10: 100}\n"
          ],
          "name": "stdout"
        }
      ]
    },
    {
      "cell_type": "code",
      "metadata": {
        "id": "PyLytoDN9ZO6",
        "outputId": "c2b4dcfd-4b92-46e7-9da0-818fc7edea6d",
        "colab": {
          "base_uri": "https://localhost:8080/",
          "height": 35
        }
      },
      "source": [
        "# ahora hagamoslo con comprehension\n",
        "# El valos que quiero y luego las restricciones\n",
        "cuadrados = {num: num**2 for num in range(1,11)}\n",
        "cuadrados"
      ],
      "execution_count": null,
      "outputs": [
        {
          "output_type": "execute_result",
          "data": {
            "text/plain": [
              "{1: 1, 2: 4, 3: 9, 4: 16, 5: 25, 6: 36, 7: 49, 8: 64, 9: 81, 10: 100}"
            ]
          },
          "metadata": {
            "tags": []
          },
          "execution_count": 11
        }
      ]
    },
    {
      "cell_type": "markdown",
      "metadata": {
        "id": "oSf-aTJVrT6k"
      },
      "source": [
        "## **Manejo de Errores**\n",
        "---\n",
        "**Consultar jerarquia de errores en python**\n",
        "\n",
        "Manejo de errores con **try/except/else/finally.**"
      ]
    },
    {
      "cell_type": "code",
      "metadata": {
        "id": "BMKqsRi0rcUR"
      },
      "source": [
        "# Ejemplo 1\n",
        "# creando diccionario\n",
        "countries = {\n",
        "    'mexico':122,\n",
        "    'colombia':49\n",
        "}\n",
        "\n",
        "while True:\n",
        "    country = str(input(\"Escribe el nombre de un pais: \")).lower()  # para asegurar siempre minusculas\n",
        "    try:\n",
        "        print(\"la poblacion {} es {} millones\".format(country, countries[country]))\n",
        "    except KeyError: # manejando el tipo de error\n",
        "        print(\"No esta el dato de la poblacionde {}\".format(country))"
      ],
      "execution_count": null,
      "outputs": []
    },
    {
      "cell_type": "code",
      "metadata": {
        "id": "efJfNk4xBrHu"
      },
      "source": [
        "# Ejemplo 2\n",
        "def division(num1, num2):\n",
        "  # lo que tiene que intentar el programa\n",
        "  try:\n",
        "    division = num1 / num2\n",
        "    print(\"El resultado es: \", division)\n",
        "  # lo que tiene que sacar en caso que se encuntre con el error\n",
        "  except ZeroDivisionError:\n",
        "    print(\"Esta intentando dividir por cero\")\n",
        "  finally:\n",
        "    print(\"Esto siempre se ejecuta, caiga o no en el error\")\n"
      ],
      "execution_count": null,
      "outputs": []
    },
    {
      "cell_type": "code",
      "metadata": {
        "id": "MMJNYtzlC6sd",
        "outputId": "9883e2a0-a299-4d31-afa0-8152ba674e7b",
        "colab": {
          "base_uri": "https://localhost:8080/",
          "height": 53
        }
      },
      "source": [
        "division(10,0)"
      ],
      "execution_count": null,
      "outputs": [
        {
          "output_type": "stream",
          "text": [
            "Esta intentando dividir por cero\n",
            "Esto siempre se ejecuta, caiga o no en el error\n"
          ],
          "name": "stdout"
        }
      ]
    },
    {
      "cell_type": "code",
      "source": [
        "def division(num1, num2):\n",
        "   # what the program has to try\n",
        "   try:\n",
        "     division = num1 / num2\n",
        "     print(\"The result is: \", division)\n",
        "   # what to output in case you run into the error\n",
        "   except ZeroDivisionError:\n",
        "     print(\"You are trying to divide by zero\")\n",
        "   finally:\n",
        "     print(\"This always runs whether or not it hits the error\")"
      ],
      "metadata": {
        "id": "e5x7T6NihjlR"
      },
      "execution_count": null,
      "outputs": []
    },
    {
      "cell_type": "markdown",
      "metadata": {
        "id": "sr73AIU-twt1"
      },
      "source": [
        "## Manejo de archivos\n",
        "---\n",
        "Python puede leer y escribir archivos haciendo uso de la funcion open (OJO no hay Ctrl + Z ) No nos podemos devolver en los cambios.\n",
        "* La función **open** regresa un objeto archivo (file)\n",
        "* Los archivos pueden ser de texto o binarios\n",
        "* Se debe especificar el modo en el que se se maneja los archivos\n",
        "  * 'r' = read\n",
        "  * 'w' = write\n",
        "  * 'a' = append\n",
        "  * 'r+'= read and write\n",
        "* El Archivo se debe cerrar con el método **close**\n",
        "* Hacemos uso del manejador de contexto **with**\n",
        "\n",
        "\n"
      ]
    },
    {
      "cell_type": "code",
      "metadata": {
        "id": "djaUUTqFvNyf"
      },
      "source": [
        "# Escribamos un archivo.\n",
        "with open('numeros.txt', 'w') as f:\n",
        "        for i in range(10):\n",
        "            f.write(str(i))\n"
      ],
      "execution_count": null,
      "outputs": []
    },
    {
      "cell_type": "code",
      "metadata": {
        "id": "UzSdH0G_H8qq",
        "outputId": "b0b077f3-5813-438a-c388-7348d45a5232",
        "colab": {
          "base_uri": "https://localhost:8080/",
          "height": 35
        }
      },
      "source": [
        "# Leamos el archivo (ver)\n",
        "with open('numeros.txt', 'r') as f:\n",
        "  print(f.readline())"
      ],
      "execution_count": null,
      "outputs": [
        {
          "output_type": "stream",
          "text": [
            "0123456789\n"
          ],
          "name": "stdout"
        }
      ]
    },
    {
      "cell_type": "code",
      "metadata": {
        "id": "I4xy0JKaJIWI"
      },
      "source": [
        ""
      ],
      "execution_count": null,
      "outputs": []
    },
    {
      "cell_type": "markdown",
      "metadata": {
        "id": "dpRB0OF8ph-c"
      },
      "source": [
        "## **Programación orientada a objetos**\n",
        "---\n",
        "Las clases y objetos:\n",
        "* Permiten definir tipos propios\n",
        "* Permite manejar datos y lógica en un solo contenedor\n",
        "* Las clases son como moldes para crear otros objetos.\n",
        "* Poseen atributos\n",
        "* Las clases pueden tener ***variables de clase, variables de instancia*** y variables locales\n",
        "* **insintance y hasattr** (funciones)\n",
        "* Los métodos son como funciones que solo tienen sentido dentro de una clase (o objeto)\n",
        "* Los métodos privados se definen con un guión bajo \n",
        "* La **encasulapción** (esconder la complejidad) es un concepto clave de la programación orientada a objetos.\n",
        "* Un método clave que casi todas las clases deben tener es __init__\n",
        "* Otro es __str__\n",
        "* Existen varios tipos de métodos: estáticos, de instancia, getters, setters \n"
      ]
    },
    {
      "cell_type": "code",
      "metadata": {
        "id": "0hG2fgb64G-k",
        "outputId": "d428724d-1b64-499f-95fd-4b4eb4b88507",
        "colab": {
          "base_uri": "https://localhost:8080/",
          "height": 612
        }
      },
      "source": [
        "# -*- coding: utf-8 -*-\n",
        "class Lamp: # Escribir en mayusculas\n",
        "  #variable de clase (lista)\n",
        "    _LAMPS = ['''  \n",
        "          .\n",
        "     .    |    ,\n",
        "      \\   '   /\n",
        "       ` ,-. '\n",
        "    --- (   ) ---\n",
        "         \\ /\n",
        "        _|=|_\n",
        "       |_____|\n",
        "    ''',\n",
        "    '''\n",
        "         ,-.\n",
        "        (   )\n",
        "         \\ /\n",
        "        _|=|_\n",
        "       |_____|\n",
        "    ''']\n",
        "# Método constructor \n",
        "    def __init__(self, is_turned_on): # siempre recibir self (instancia) (contructor de clase __init__ )\n",
        "        self._is_turned_on = is_turned_on  # Estado inicial\n",
        "# Cambiar el estado\n",
        "    def turn_on(self): # método público \n",
        "        self._is_turned_on = True\n",
        "        self._display_image() # mostrando lampara\n",
        "\n",
        "    def turn_off(self):\n",
        "        self._is_turned_on = False\n",
        "        self._display_image() # mostrnado lampara\n",
        "\n",
        "    def _display_image(self): # metodo privado\n",
        "        if self._is_turned_on:\n",
        "            print(self._LAMPS[0])\n",
        "        else:\n",
        "            print(self._LAMPS[1])\n",
        "\n",
        "def run():\n",
        "  lamp = Lamp(is_turned_on=False)\n",
        "\n",
        "  while True:\n",
        "    command = str(input('''\n",
        "        ¿ Que deseas hacer ?\n",
        "        [p] Prender\n",
        "        [a] Apagar\n",
        "        [s] Salir\n",
        "    '''))\n",
        "    if command == 'p':\n",
        "      lamp.turn_on()\n",
        "    elif command == 'a':\n",
        "      lamp.turn_off()\n",
        "    else:\n",
        "      break\n",
        "\n",
        "if __name__ == '__main__': # definiendo punto de acceso\n",
        "  run()\n",
        "\n"
      ],
      "execution_count": null,
      "outputs": [
        {
          "output_type": "stream",
          "text": [
            "\n",
            "        ¿ Que deseas hacer ?\n",
            "        [p] Prender\n",
            "        [a] Apagar\n",
            "        [s] Salir\n",
            "    p\n",
            "  \n",
            "          .\n",
            "     .    |    ,\n",
            "      \\   '   /\n",
            "       ` ,-. '\n",
            "    --- (   ) ---\n",
            "         \\ /\n",
            "        _|=|_\n",
            "       |_____|\n",
            "    \n",
            "\n",
            "        ¿ Que deseas hacer ?\n",
            "        [p] Prender\n",
            "        [a] Apagar\n",
            "        [s] Salir\n",
            "    a\n",
            "\n",
            "         ,-.\n",
            "        (   )\n",
            "         \\ /\n",
            "        _|=|_\n",
            "       |_____|\n",
            "    \n",
            "\n",
            "        ¿ Que deseas hacer ?\n",
            "        [p] Prender\n",
            "        [a] Apagar\n",
            "        [s] Salir\n",
            "    s\n"
          ],
          "name": "stdout"
        }
      ]
    },
    {
      "cell_type": "code",
      "metadata": {
        "id": "dq-9bVO-p7aN"
      },
      "source": [
        "cd class Estudiante(object): \n",
        "  def __init__(self,nombre_r,edad_r):\n",
        "    self.nombre = nombre_r\n",
        "    self.edad = edad_r \n",
        "\n",
        "  def hola(self):\n",
        "    return \"Mi nombre es %s y tengo %i\" % (self.nombre, self.edad)"
      ],
      "execution_count": null,
      "outputs": []
    },
    {
      "cell_type": "code",
      "metadata": {
        "id": "eBBMalS8q-43",
        "outputId": "f6dfef0d-52e4-4d71-e600-307926ad62c3",
        "colab": {
          "base_uri": "https://localhost:8080/",
          "height": 34
        }
      },
      "source": [
        "e = Estudiante(\"Arturo\", 21) \n",
        "print(e.hola())"
      ],
      "execution_count": null,
      "outputs": [
        {
          "output_type": "stream",
          "text": [
            "Mi nombre es Arturo y tengo 21\n"
          ],
          "name": "stdout"
        }
      ]
    },
    {
      "cell_type": "markdown",
      "metadata": {
        "id": "tx_25fKdvgBu"
      },
      "source": [
        "**Métodos especiales**\n",
        "___\n",
        "\n",
        "**```cmp(self,otro)```**\n",
        "\n",
        "Método llamado cuando utilizas los operadores de comparación para comprobar si tu objeto es menor, mayor o igual al objeto pasado como parámetro.\n",
        "\n",
        "**```len(self)```**\n",
        "Método llamado para comprobar la longitud del objeto. Lo usas, por ejemplo, cuando llamas la función len(obj) sobre nuestro código. Como es de suponer el método te debe devolver la longitud del objeto.\n",
        "\n",
        "**```init(self,otro)```**\n",
        "Es un constructor de nuestra clase, es decir, es un “método especial” que es llamas automáticamente cuando creas un objeto."
      ]
    },
    {
      "cell_type": "markdown",
      "metadata": {
        "id": "Ws0SzabAbltV"
      },
      "source": [
        "**Recursividad**\n",
        "---\n",
        "Calcular el factorial de un numeor usando recursividad.\n",
        "\n",
        "**Importante** Establecer el caso base (number == 0) de nuestra función recursiva. "
      ]
    },
    {
      "cell_type": "code",
      "metadata": {
        "id": "vC0a8IdZbo5Q",
        "outputId": "76d41e36-5fe8-447a-e1e7-47ebda729524",
        "colab": {
          "base_uri": "https://localhost:8080/",
          "height": 50
        }
      },
      "source": [
        "## Clacular el factorial de un número \n",
        "def factorial(number):\n",
        "  if number == 0:\n",
        "    return(1)\n",
        "  return (number*factorial(number-1))\n",
        "\n",
        "if __name__ == '__main__':\n",
        "  number = int(input(\"Escribe un número entero: \"))\n",
        "  result = factorial(number)\n",
        "  print(result)\n"
      ],
      "execution_count": null,
      "outputs": [
        {
          "output_type": "stream",
          "text": [
            "Escribe un número entero: 4\n",
            "24\n"
          ],
          "name": "stdout"
        }
      ]
    },
    {
      "cell_type": "code",
      "metadata": {
        "id": "2lmB7yeddG0I",
        "outputId": "b0fcf89f-eb61-4cc0-d81f-f2f49e2ad260",
        "colab": {
          "base_uri": "https://localhost:8080/",
          "height": 51
        }
      },
      "source": [
        "number = int(input(\"Ingrese el número: \"))\n",
        "def factorial(number):\n",
        "  if number == 0:\n",
        "    return(1)\n",
        "  else:\n",
        "    return(number*factorial(number-1))\n",
        "\n",
        "result = factorial(number)\n",
        "result"
      ],
      "execution_count": null,
      "outputs": [
        {
          "output_type": "stream",
          "text": [
            "Ingrese el número: 3\n"
          ],
          "name": "stdout"
        },
        {
          "output_type": "execute_result",
          "data": {
            "text/plain": [
              "6"
            ]
          },
          "metadata": {
            "tags": []
          },
          "execution_count": 2
        }
      ]
    },
    {
      "cell_type": "code",
      "metadata": {
        "id": "3CWsdAs-eKLW"
      },
      "source": [
        "def factorial(number):\n",
        "  if number == 0:\n",
        "    return(1)\n",
        "  else:\n",
        "    return(number*number-1)\n",
        "\n",
        "resultado = factorial(number)\n",
        "print(resultado)"
      ],
      "execution_count": null,
      "outputs": []
    },
    {
      "cell_type": "code",
      "metadata": {
        "id": "a4pyyUvD849E"
      },
      "source": [
        ""
      ],
      "execution_count": null,
      "outputs": []
    },
    {
      "cell_type": "markdown",
      "metadata": {
        "id": "yBQmzcNL86Wp"
      },
      "source": [
        "## **Busqueda Binaria**\n",
        "---"
      ]
    },
    {
      "cell_type": "code",
      "metadata": {
        "id": "lNCeTcVX89uC",
        "outputId": "5e8347cc-6ee3-4ebd-951a-ef5a6afd75da",
        "colab": {
          "base_uri": "https://localhost:8080/",
          "height": 51
        }
      },
      "source": [
        "# -*- coding: utf-8 -*-\n",
        "def binary_search(numbers, number_to_find, low, high):\n",
        "  # primer caso base\n",
        "    if low > high:\n",
        "        return False\n",
        "    mid = int((low + high) / 2)\n",
        "    if numbers[mid] == number_to_find:\n",
        "        return True\n",
        "    elif numbers[mid] > number_to_find:\n",
        "        return binary_search(numbers, number_to_find, low, mid - 1)\n",
        "    else:\n",
        "        return binary_search(numbers, number_to_find, mid + 1, high)\n",
        "\n",
        "if __name__ == '__main__':\n",
        "    numbers = [1, 3, 4, 5, 6, 9, 10, 11, 25, 27, 28, 34, 36, 49, 51]\n",
        "\n",
        "    number_to_find = int(input('Ingresa un número: '))\n",
        "\n",
        "    result = binary_search(numbers, number_to_find, 0, len(numbers) - 1)\n",
        "\n",
        "    if result is True:\n",
        "        print('El número sí está en la lista.')\n",
        "    else:\n",
        "        print('El número NO está en la lista.')"
      ],
      "execution_count": null,
      "outputs": [
        {
          "output_type": "stream",
          "text": [
            "Ingresa un número: 36\n",
            "El número sí está en la lista.\n"
          ],
          "name": "stdout"
        }
      ]
    },
    {
      "cell_type": "markdown",
      "metadata": {
        "id": "pMi9NFbhA3VL"
      },
      "source": [
        "## **Decoradores**\n",
        "\n",
        "Un decoradores una función que recibe otra función y regresa una tercera función.\n",
        "\n",
        "Para reconocer un decorador, puedes ver que tienes un arroba sobre la declaración de una función.\n"
      ]
    },
    {
      "cell_type": "code",
      "metadata": {
        "id": "lBUyfDmDBCpp"
      },
      "source": [
        "# -*- coding: utf-8 -*-\n",
        "\n",
        "\n",
        "def protected(func):\n",
        "    def wrapper(password):\n",
        "        if password == 'Esteban':\n",
        "            return func()\n",
        "        else:\n",
        "            print('La contraseña es incorrecta')\n",
        "\n",
        "    return wrapper\n",
        "\n",
        "# decorador\n",
        "@protected\n",
        "def protected_func():\n",
        "    print('Tu contraseña es correcta.')\n",
        "\n",
        "\n",
        "if __name__ == '__main__':\n",
        "    password = str(input('Ingresa tu contraseña: '))\n",
        "\n",
        "    protected_func(password)\n"
      ],
      "execution_count": null,
      "outputs": []
    },
    {
      "cell_type": "code",
      "metadata": {
        "id": "hDxpaYoPHsOK"
      },
      "source": [
        ""
      ],
      "execution_count": null,
      "outputs": []
    },
    {
      "cell_type": "markdown",
      "metadata": {
        "id": "Moodvi3jHsyo"
      },
      "source": [
        "## **Entornos virtuales**"
      ]
    },
    {
      "cell_type": "markdown",
      "metadata": {
        "id": "oDoHaM1uLlIj"
      },
      "source": [
        "* PyPi (Python package index) es un repositorio de paquetes de terceros que se pueden utilizar en proyectos de python\n",
        "\n",
        "* Se pueden instalar los paquetes ejecutando `pip install <nombre del paquete>`\n",
        "\n",
        "* Se pude agrupar la instalacion de varios paquetes con el archivo `requirements.txt `(para definir versiones)\n",
        "\n",
        "**Consultar:**\n",
        "\n",
        "* Interprete global\n",
        "* Ambiente virtual\n",
        "* Como instalar pip ?"
      ]
    },
    {
      "cell_type": "code",
      "metadata": {
        "id": "bj5vlUORHwhy"
      },
      "source": [
        "# Para trabajar con ambientes virtuales\n",
        "! pip install virtualenv"
      ],
      "execution_count": null,
      "outputs": []
    },
    {
      "cell_type": "code",
      "metadata": {
        "id": "EIii64S9OJRI"
      },
      "source": [
        "# Para crear nuestro primer ambiente virtual.  virtualenv <nombre del ambiente>\n",
        "! virtualenv venv"
      ],
      "execution_count": null,
      "outputs": []
    },
    {
      "cell_type": "code",
      "metadata": {
        "id": "8JiCWVWGPCLY"
      },
      "source": [
        "# Para incializar nuestro ambiente virtual\n",
        "! source venv/bin/activate"
      ],
      "execution_count": null,
      "outputs": []
    },
    {
      "cell_type": "markdown",
      "metadata": {
        "id": "T67UT7e8PQsu"
      },
      "source": [
        "\n",
        "```\n",
        "(venv) (base) esteban@Lenovo-G40-70:\n",
        "```\n",
        "\n"
      ]
    },
    {
      "cell_type": "code",
      "metadata": {
        "id": "u5cGmu0HPT9M"
      },
      "source": [
        "# Para mirar que paquetes tenemos en nuestro ambiente\n",
        "!pip freeze"
      ],
      "execution_count": null,
      "outputs": []
    },
    {
      "cell_type": "code",
      "metadata": {
        "id": "I2pubtpGQhhE"
      },
      "source": [
        "# Para instalar desde requirements.txt \n",
        "!pip install -r requirements.txt"
      ],
      "execution_count": null,
      "outputs": []
    },
    {
      "cell_type": "markdown",
      "metadata": {
        "id": "lAo9aoEESacI"
      },
      "source": [
        "Hagamos nuestro primer servidor web"
      ]
    },
    {
      "cell_type": "code",
      "metadata": {
        "id": "KI_r3cWOSZSH"
      },
      "source": [
        "from flask import Flask \n",
        "# del modulo importe la case\n",
        "\n",
        "# generado una instancia de Flask\n",
        "app = Flask(__name__)\n",
        "\n",
        "@app.route('/')\n",
        "def hello_world():\n",
        "    return 'Hola, ingenieros de software'\n",
        "\n",
        "if __name__ == '__main__':\n",
        "    app.run()"
      ],
      "execution_count": null,
      "outputs": []
    },
    {
      "cell_type": "markdown",
      "metadata": {
        "id": "vIVjvdQ7LSTP"
      },
      "source": [
        "**Practica**\n",
        "---\n",
        "\n",
        "atributo (sin parecentesis)\n",
        "metodo (con parentesis)"
      ]
    },
    {
      "cell_type": "code",
      "metadata": {
        "id": "Xv9v47HSLSfv"
      },
      "source": [
        "# cargando libreria\n",
        "import pandas as pd\n",
        "import numpy as np\n",
        "import matplotlib.pyplot as plt"
      ],
      "execution_count": null,
      "outputs": []
    },
    {
      "cell_type": "code",
      "metadata": {
        "id": "aAmPe47mMKPj"
      },
      "source": [
        "auto = pd.read_csv(\"https://raw.githubusercontent.com/unalyticsteam/databases/master/auto-mpg.csv\")"
      ],
      "execution_count": null,
      "outputs": []
    },
    {
      "cell_type": "code",
      "metadata": {
        "id": "SZmWuFwgMlly",
        "outputId": "5114877b-86e4-4e80-a4f2-5637e2c11e92",
        "colab": {
          "base_uri": "https://localhost:8080/",
          "height": 206
        }
      },
      "source": [
        "auto.head()"
      ],
      "execution_count": null,
      "outputs": [
        {
          "output_type": "execute_result",
          "data": {
            "text/plain": [
              "   No   mpg  cylinders  displacement  horsepower  weight  acceleration  \\\n",
              "0   1  28.0          4         140.0          90    2264          15.5   \n",
              "1   2  19.0          3          70.0          97    2330          13.5   \n",
              "2   3  36.0          4         107.0          75    2205          14.5   \n",
              "3   4  28.0          4          97.0          92    2288          17.0   \n",
              "4   5  21.0          6         199.0          90    2648          15.0   \n",
              "\n",
              "   model_year             car_name  \n",
              "0          71  chevrolet vega 2300  \n",
              "1          72      mazda rx2 coupe  \n",
              "2          82         honda accord  \n",
              "3          72      datsun 510 (sw)  \n",
              "4          70          amc gremlin  "
            ],
            "text/html": [
              "\n",
              "  <div id=\"df-3ef56ae5-ca9b-4ca8-b3c7-2cb6f7ba16a7\">\n",
              "    <div class=\"colab-df-container\">\n",
              "      <div>\n",
              "<style scoped>\n",
              "    .dataframe tbody tr th:only-of-type {\n",
              "        vertical-align: middle;\n",
              "    }\n",
              "\n",
              "    .dataframe tbody tr th {\n",
              "        vertical-align: top;\n",
              "    }\n",
              "\n",
              "    .dataframe thead th {\n",
              "        text-align: right;\n",
              "    }\n",
              "</style>\n",
              "<table border=\"1\" class=\"dataframe\">\n",
              "  <thead>\n",
              "    <tr style=\"text-align: right;\">\n",
              "      <th></th>\n",
              "      <th>No</th>\n",
              "      <th>mpg</th>\n",
              "      <th>cylinders</th>\n",
              "      <th>displacement</th>\n",
              "      <th>horsepower</th>\n",
              "      <th>weight</th>\n",
              "      <th>acceleration</th>\n",
              "      <th>model_year</th>\n",
              "      <th>car_name</th>\n",
              "    </tr>\n",
              "  </thead>\n",
              "  <tbody>\n",
              "    <tr>\n",
              "      <th>0</th>\n",
              "      <td>1</td>\n",
              "      <td>28.0</td>\n",
              "      <td>4</td>\n",
              "      <td>140.0</td>\n",
              "      <td>90</td>\n",
              "      <td>2264</td>\n",
              "      <td>15.5</td>\n",
              "      <td>71</td>\n",
              "      <td>chevrolet vega 2300</td>\n",
              "    </tr>\n",
              "    <tr>\n",
              "      <th>1</th>\n",
              "      <td>2</td>\n",
              "      <td>19.0</td>\n",
              "      <td>3</td>\n",
              "      <td>70.0</td>\n",
              "      <td>97</td>\n",
              "      <td>2330</td>\n",
              "      <td>13.5</td>\n",
              "      <td>72</td>\n",
              "      <td>mazda rx2 coupe</td>\n",
              "    </tr>\n",
              "    <tr>\n",
              "      <th>2</th>\n",
              "      <td>3</td>\n",
              "      <td>36.0</td>\n",
              "      <td>4</td>\n",
              "      <td>107.0</td>\n",
              "      <td>75</td>\n",
              "      <td>2205</td>\n",
              "      <td>14.5</td>\n",
              "      <td>82</td>\n",
              "      <td>honda accord</td>\n",
              "    </tr>\n",
              "    <tr>\n",
              "      <th>3</th>\n",
              "      <td>4</td>\n",
              "      <td>28.0</td>\n",
              "      <td>4</td>\n",
              "      <td>97.0</td>\n",
              "      <td>92</td>\n",
              "      <td>2288</td>\n",
              "      <td>17.0</td>\n",
              "      <td>72</td>\n",
              "      <td>datsun 510 (sw)</td>\n",
              "    </tr>\n",
              "    <tr>\n",
              "      <th>4</th>\n",
              "      <td>5</td>\n",
              "      <td>21.0</td>\n",
              "      <td>6</td>\n",
              "      <td>199.0</td>\n",
              "      <td>90</td>\n",
              "      <td>2648</td>\n",
              "      <td>15.0</td>\n",
              "      <td>70</td>\n",
              "      <td>amc gremlin</td>\n",
              "    </tr>\n",
              "  </tbody>\n",
              "</table>\n",
              "</div>\n",
              "      <button class=\"colab-df-convert\" onclick=\"convertToInteractive('df-3ef56ae5-ca9b-4ca8-b3c7-2cb6f7ba16a7')\"\n",
              "              title=\"Convert this dataframe to an interactive table.\"\n",
              "              style=\"display:none;\">\n",
              "        \n",
              "  <svg xmlns=\"http://www.w3.org/2000/svg\" height=\"24px\"viewBox=\"0 0 24 24\"\n",
              "       width=\"24px\">\n",
              "    <path d=\"M0 0h24v24H0V0z\" fill=\"none\"/>\n",
              "    <path d=\"M18.56 5.44l.94 2.06.94-2.06 2.06-.94-2.06-.94-.94-2.06-.94 2.06-2.06.94zm-11 1L8.5 8.5l.94-2.06 2.06-.94-2.06-.94L8.5 2.5l-.94 2.06-2.06.94zm10 10l.94 2.06.94-2.06 2.06-.94-2.06-.94-.94-2.06-.94 2.06-2.06.94z\"/><path d=\"M17.41 7.96l-1.37-1.37c-.4-.4-.92-.59-1.43-.59-.52 0-1.04.2-1.43.59L10.3 9.45l-7.72 7.72c-.78.78-.78 2.05 0 2.83L4 21.41c.39.39.9.59 1.41.59.51 0 1.02-.2 1.41-.59l7.78-7.78 2.81-2.81c.8-.78.8-2.07 0-2.86zM5.41 20L4 18.59l7.72-7.72 1.47 1.35L5.41 20z\"/>\n",
              "  </svg>\n",
              "      </button>\n",
              "      \n",
              "  <style>\n",
              "    .colab-df-container {\n",
              "      display:flex;\n",
              "      flex-wrap:wrap;\n",
              "      gap: 12px;\n",
              "    }\n",
              "\n",
              "    .colab-df-convert {\n",
              "      background-color: #E8F0FE;\n",
              "      border: none;\n",
              "      border-radius: 50%;\n",
              "      cursor: pointer;\n",
              "      display: none;\n",
              "      fill: #1967D2;\n",
              "      height: 32px;\n",
              "      padding: 0 0 0 0;\n",
              "      width: 32px;\n",
              "    }\n",
              "\n",
              "    .colab-df-convert:hover {\n",
              "      background-color: #E2EBFA;\n",
              "      box-shadow: 0px 1px 2px rgba(60, 64, 67, 0.3), 0px 1px 3px 1px rgba(60, 64, 67, 0.15);\n",
              "      fill: #174EA6;\n",
              "    }\n",
              "\n",
              "    [theme=dark] .colab-df-convert {\n",
              "      background-color: #3B4455;\n",
              "      fill: #D2E3FC;\n",
              "    }\n",
              "\n",
              "    [theme=dark] .colab-df-convert:hover {\n",
              "      background-color: #434B5C;\n",
              "      box-shadow: 0px 1px 3px 1px rgba(0, 0, 0, 0.15);\n",
              "      filter: drop-shadow(0px 1px 2px rgba(0, 0, 0, 0.3));\n",
              "      fill: #FFFFFF;\n",
              "    }\n",
              "  </style>\n",
              "\n",
              "      <script>\n",
              "        const buttonEl =\n",
              "          document.querySelector('#df-3ef56ae5-ca9b-4ca8-b3c7-2cb6f7ba16a7 button.colab-df-convert');\n",
              "        buttonEl.style.display =\n",
              "          google.colab.kernel.accessAllowed ? 'block' : 'none';\n",
              "\n",
              "        async function convertToInteractive(key) {\n",
              "          const element = document.querySelector('#df-3ef56ae5-ca9b-4ca8-b3c7-2cb6f7ba16a7');\n",
              "          const dataTable =\n",
              "            await google.colab.kernel.invokeFunction('convertToInteractive',\n",
              "                                                     [key], {});\n",
              "          if (!dataTable) return;\n",
              "\n",
              "          const docLinkHtml = 'Like what you see? Visit the ' +\n",
              "            '<a target=\"_blank\" href=https://colab.research.google.com/notebooks/data_table.ipynb>data table notebook</a>'\n",
              "            + ' to learn more about interactive tables.';\n",
              "          element.innerHTML = '';\n",
              "          dataTable['output_type'] = 'display_data';\n",
              "          await google.colab.output.renderOutput(dataTable, element);\n",
              "          const docLink = document.createElement('div');\n",
              "          docLink.innerHTML = docLinkHtml;\n",
              "          element.appendChild(docLink);\n",
              "        }\n",
              "      </script>\n",
              "    </div>\n",
              "  </div>\n",
              "  "
            ]
          },
          "metadata": {},
          "execution_count": 4
        }
      ]
    },
    {
      "cell_type": "code",
      "metadata": {
        "id": "9SstgcgEMn8C",
        "outputId": "dde89ab1-ca32-4494-c16d-81a1ed8907a6",
        "colab": {
          "base_uri": "https://localhost:8080/"
        }
      },
      "source": [
        "auto.info()"
      ],
      "execution_count": null,
      "outputs": [
        {
          "output_type": "stream",
          "name": "stdout",
          "text": [
            "<class 'pandas.core.frame.DataFrame'>\n",
            "RangeIndex: 398 entries, 0 to 397\n",
            "Data columns (total 9 columns):\n",
            " #   Column        Non-Null Count  Dtype  \n",
            "---  ------        --------------  -----  \n",
            " 0   No            398 non-null    int64  \n",
            " 1   mpg           398 non-null    float64\n",
            " 2   cylinders     398 non-null    int64  \n",
            " 3   displacement  398 non-null    float64\n",
            " 4   horsepower    398 non-null    int64  \n",
            " 5   weight        398 non-null    int64  \n",
            " 6   acceleration  398 non-null    float64\n",
            " 7   model_year    398 non-null    int64  \n",
            " 8   car_name      398 non-null    object \n",
            "dtypes: float64(3), int64(5), object(1)\n",
            "memory usage: 28.1+ KB\n"
          ]
        }
      ]
    },
    {
      "cell_type": "code",
      "metadata": {
        "id": "1ZSzOLI-M_G1",
        "outputId": "75be16ba-7c10-402d-97f3-da34008de715",
        "colab": {
          "base_uri": "https://localhost:8080/"
        }
      },
      "source": [
        "# convertir cilindros a variable categorica\n",
        "#auto['model year']\n",
        "# objeto serie (analogo a vector en R)\n",
        "auto.model_year = auto.model_year.astype('category')\n",
        "auto.cylinders = auto.cylinders.astype('category')\n",
        "\n",
        "type(auto.model_year)\n"
      ],
      "execution_count": null,
      "outputs": [
        {
          "output_type": "execute_result",
          "data": {
            "text/plain": [
              "pandas.core.series.Series"
            ]
          },
          "metadata": {},
          "execution_count": 6
        }
      ]
    },
    {
      "cell_type": "code",
      "metadata": {
        "id": "cqI_xKVQMxUw",
        "outputId": "09b2329c-60de-45e9-d655-25fd546da36e",
        "colab": {
          "base_uri": "https://localhost:8080/"
        }
      },
      "source": [
        "auto.info()"
      ],
      "execution_count": null,
      "outputs": [
        {
          "output_type": "stream",
          "name": "stdout",
          "text": [
            "<class 'pandas.core.frame.DataFrame'>\n",
            "RangeIndex: 398 entries, 0 to 397\n",
            "Data columns (total 9 columns):\n",
            " #   Column        Non-Null Count  Dtype   \n",
            "---  ------        --------------  -----   \n",
            " 0   No            398 non-null    int64   \n",
            " 1   mpg           398 non-null    float64 \n",
            " 2   cylinders     398 non-null    category\n",
            " 3   displacement  398 non-null    float64 \n",
            " 4   horsepower    398 non-null    int64   \n",
            " 5   weight        398 non-null    int64   \n",
            " 6   acceleration  398 non-null    float64 \n",
            " 7   model_year    398 non-null    category\n",
            " 8   car_name      398 non-null    object  \n",
            "dtypes: category(2), float64(3), int64(3), object(1)\n",
            "memory usage: 23.5+ KB\n"
          ]
        }
      ]
    },
    {
      "cell_type": "code",
      "metadata": {
        "id": "VR1r1FHhOgIv"
      },
      "source": [
        ""
      ],
      "execution_count": null,
      "outputs": []
    },
    {
      "cell_type": "markdown",
      "metadata": {
        "id": "OpRufVUIOgvj"
      },
      "source": [
        "**Analisis descriptivo**\n",
        "___"
      ]
    },
    {
      "cell_type": "code",
      "metadata": {
        "id": "K_wJQA8VOo7s",
        "outputId": "5f850905-6d90-4643-b0da-c16648bef10a",
        "colab": {
          "base_uri": "https://localhost:8080/",
          "height": 300
        }
      },
      "source": [
        "# summary en R\n",
        "round(auto.describe(), 2)"
      ],
      "execution_count": null,
      "outputs": [
        {
          "output_type": "execute_result",
          "data": {
            "text/plain": [
              "           No     mpg  displacement  horsepower   weight  acceleration\n",
              "count  398.00  398.00        398.00      398.00   398.00        398.00\n",
              "mean   199.50   23.51        193.43      104.13  2970.42         15.57\n",
              "std    115.04    7.82        104.27       38.31   846.84          2.76\n",
              "min      1.00    9.00         68.00       46.00  1613.00          8.00\n",
              "25%    100.25   17.50        104.25       76.00  2223.75         13.82\n",
              "50%    199.50   23.00        148.50       92.00  2803.50         15.50\n",
              "75%    298.75   29.00        262.00      125.00  3608.00         17.18\n",
              "max    398.00   46.60        455.00      230.00  5140.00         24.80"
            ],
            "text/html": [
              "\n",
              "  <div id=\"df-6f3c8ea3-83a0-484d-b2cf-a6a9a5d22d79\">\n",
              "    <div class=\"colab-df-container\">\n",
              "      <div>\n",
              "<style scoped>\n",
              "    .dataframe tbody tr th:only-of-type {\n",
              "        vertical-align: middle;\n",
              "    }\n",
              "\n",
              "    .dataframe tbody tr th {\n",
              "        vertical-align: top;\n",
              "    }\n",
              "\n",
              "    .dataframe thead th {\n",
              "        text-align: right;\n",
              "    }\n",
              "</style>\n",
              "<table border=\"1\" class=\"dataframe\">\n",
              "  <thead>\n",
              "    <tr style=\"text-align: right;\">\n",
              "      <th></th>\n",
              "      <th>No</th>\n",
              "      <th>mpg</th>\n",
              "      <th>displacement</th>\n",
              "      <th>horsepower</th>\n",
              "      <th>weight</th>\n",
              "      <th>acceleration</th>\n",
              "    </tr>\n",
              "  </thead>\n",
              "  <tbody>\n",
              "    <tr>\n",
              "      <th>count</th>\n",
              "      <td>398.00</td>\n",
              "      <td>398.00</td>\n",
              "      <td>398.00</td>\n",
              "      <td>398.00</td>\n",
              "      <td>398.00</td>\n",
              "      <td>398.00</td>\n",
              "    </tr>\n",
              "    <tr>\n",
              "      <th>mean</th>\n",
              "      <td>199.50</td>\n",
              "      <td>23.51</td>\n",
              "      <td>193.43</td>\n",
              "      <td>104.13</td>\n",
              "      <td>2970.42</td>\n",
              "      <td>15.57</td>\n",
              "    </tr>\n",
              "    <tr>\n",
              "      <th>std</th>\n",
              "      <td>115.04</td>\n",
              "      <td>7.82</td>\n",
              "      <td>104.27</td>\n",
              "      <td>38.31</td>\n",
              "      <td>846.84</td>\n",
              "      <td>2.76</td>\n",
              "    </tr>\n",
              "    <tr>\n",
              "      <th>min</th>\n",
              "      <td>1.00</td>\n",
              "      <td>9.00</td>\n",
              "      <td>68.00</td>\n",
              "      <td>46.00</td>\n",
              "      <td>1613.00</td>\n",
              "      <td>8.00</td>\n",
              "    </tr>\n",
              "    <tr>\n",
              "      <th>25%</th>\n",
              "      <td>100.25</td>\n",
              "      <td>17.50</td>\n",
              "      <td>104.25</td>\n",
              "      <td>76.00</td>\n",
              "      <td>2223.75</td>\n",
              "      <td>13.82</td>\n",
              "    </tr>\n",
              "    <tr>\n",
              "      <th>50%</th>\n",
              "      <td>199.50</td>\n",
              "      <td>23.00</td>\n",
              "      <td>148.50</td>\n",
              "      <td>92.00</td>\n",
              "      <td>2803.50</td>\n",
              "      <td>15.50</td>\n",
              "    </tr>\n",
              "    <tr>\n",
              "      <th>75%</th>\n",
              "      <td>298.75</td>\n",
              "      <td>29.00</td>\n",
              "      <td>262.00</td>\n",
              "      <td>125.00</td>\n",
              "      <td>3608.00</td>\n",
              "      <td>17.18</td>\n",
              "    </tr>\n",
              "    <tr>\n",
              "      <th>max</th>\n",
              "      <td>398.00</td>\n",
              "      <td>46.60</td>\n",
              "      <td>455.00</td>\n",
              "      <td>230.00</td>\n",
              "      <td>5140.00</td>\n",
              "      <td>24.80</td>\n",
              "    </tr>\n",
              "  </tbody>\n",
              "</table>\n",
              "</div>\n",
              "      <button class=\"colab-df-convert\" onclick=\"convertToInteractive('df-6f3c8ea3-83a0-484d-b2cf-a6a9a5d22d79')\"\n",
              "              title=\"Convert this dataframe to an interactive table.\"\n",
              "              style=\"display:none;\">\n",
              "        \n",
              "  <svg xmlns=\"http://www.w3.org/2000/svg\" height=\"24px\"viewBox=\"0 0 24 24\"\n",
              "       width=\"24px\">\n",
              "    <path d=\"M0 0h24v24H0V0z\" fill=\"none\"/>\n",
              "    <path d=\"M18.56 5.44l.94 2.06.94-2.06 2.06-.94-2.06-.94-.94-2.06-.94 2.06-2.06.94zm-11 1L8.5 8.5l.94-2.06 2.06-.94-2.06-.94L8.5 2.5l-.94 2.06-2.06.94zm10 10l.94 2.06.94-2.06 2.06-.94-2.06-.94-.94-2.06-.94 2.06-2.06.94z\"/><path d=\"M17.41 7.96l-1.37-1.37c-.4-.4-.92-.59-1.43-.59-.52 0-1.04.2-1.43.59L10.3 9.45l-7.72 7.72c-.78.78-.78 2.05 0 2.83L4 21.41c.39.39.9.59 1.41.59.51 0 1.02-.2 1.41-.59l7.78-7.78 2.81-2.81c.8-.78.8-2.07 0-2.86zM5.41 20L4 18.59l7.72-7.72 1.47 1.35L5.41 20z\"/>\n",
              "  </svg>\n",
              "      </button>\n",
              "      \n",
              "  <style>\n",
              "    .colab-df-container {\n",
              "      display:flex;\n",
              "      flex-wrap:wrap;\n",
              "      gap: 12px;\n",
              "    }\n",
              "\n",
              "    .colab-df-convert {\n",
              "      background-color: #E8F0FE;\n",
              "      border: none;\n",
              "      border-radius: 50%;\n",
              "      cursor: pointer;\n",
              "      display: none;\n",
              "      fill: #1967D2;\n",
              "      height: 32px;\n",
              "      padding: 0 0 0 0;\n",
              "      width: 32px;\n",
              "    }\n",
              "\n",
              "    .colab-df-convert:hover {\n",
              "      background-color: #E2EBFA;\n",
              "      box-shadow: 0px 1px 2px rgba(60, 64, 67, 0.3), 0px 1px 3px 1px rgba(60, 64, 67, 0.15);\n",
              "      fill: #174EA6;\n",
              "    }\n",
              "\n",
              "    [theme=dark] .colab-df-convert {\n",
              "      background-color: #3B4455;\n",
              "      fill: #D2E3FC;\n",
              "    }\n",
              "\n",
              "    [theme=dark] .colab-df-convert:hover {\n",
              "      background-color: #434B5C;\n",
              "      box-shadow: 0px 1px 3px 1px rgba(0, 0, 0, 0.15);\n",
              "      filter: drop-shadow(0px 1px 2px rgba(0, 0, 0, 0.3));\n",
              "      fill: #FFFFFF;\n",
              "    }\n",
              "  </style>\n",
              "\n",
              "      <script>\n",
              "        const buttonEl =\n",
              "          document.querySelector('#df-6f3c8ea3-83a0-484d-b2cf-a6a9a5d22d79 button.colab-df-convert');\n",
              "        buttonEl.style.display =\n",
              "          google.colab.kernel.accessAllowed ? 'block' : 'none';\n",
              "\n",
              "        async function convertToInteractive(key) {\n",
              "          const element = document.querySelector('#df-6f3c8ea3-83a0-484d-b2cf-a6a9a5d22d79');\n",
              "          const dataTable =\n",
              "            await google.colab.kernel.invokeFunction('convertToInteractive',\n",
              "                                                     [key], {});\n",
              "          if (!dataTable) return;\n",
              "\n",
              "          const docLinkHtml = 'Like what you see? Visit the ' +\n",
              "            '<a target=\"_blank\" href=https://colab.research.google.com/notebooks/data_table.ipynb>data table notebook</a>'\n",
              "            + ' to learn more about interactive tables.';\n",
              "          element.innerHTML = '';\n",
              "          dataTable['output_type'] = 'display_data';\n",
              "          await google.colab.output.renderOutput(dataTable, element);\n",
              "          const docLink = document.createElement('div');\n",
              "          docLink.innerHTML = docLinkHtml;\n",
              "          element.appendChild(docLink);\n",
              "        }\n",
              "      </script>\n",
              "    </div>\n",
              "  </div>\n",
              "  "
            ]
          },
          "metadata": {},
          "execution_count": 8
        }
      ]
    },
    {
      "cell_type": "markdown",
      "metadata": {
        "id": "P2I8ES6pQaCf"
      },
      "source": [
        "**Filtros**\n",
        "\n",
        "loc & iloc\n",
        "fltros sobre texto y filtro sobre indices\n"
      ]
    },
    {
      "cell_type": "code",
      "metadata": {
        "id": "X3uVqQ09QYqs",
        "outputId": "20087672-eda4-491c-be77-1f946309698f",
        "colab": {
          "base_uri": "https://localhost:8080/"
        }
      },
      "source": [
        "# filtros por indices\n",
        "auto.iloc[3,]"
      ],
      "execution_count": null,
      "outputs": [
        {
          "output_type": "execute_result",
          "data": {
            "text/plain": [
              "No                            4\n",
              "mpg                        28.0\n",
              "cylinders                     4\n",
              "displacement               97.0\n",
              "horsepower                   92\n",
              "weight                     2288\n",
              "acceleration               17.0\n",
              "model_year                   72\n",
              "car_name        datsun 510 (sw)\n",
              "Name: 3, dtype: object"
            ]
          },
          "metadata": {},
          "execution_count": 9
        }
      ]
    },
    {
      "cell_type": "code",
      "metadata": {
        "id": "dg-7PcgJQ6k6",
        "colab": {
          "base_uri": "https://localhost:8080/",
          "height": 184
        },
        "outputId": "ddb6e12c-ab64-4e54-c314-bec348e14e94"
      },
      "source": [
        "# para extraer toda la columa\n",
        "auto.loc[mpg]"
      ],
      "execution_count": null,
      "outputs": [
        {
          "output_type": "error",
          "ename": "NameError",
          "evalue": "ignored",
          "traceback": [
            "\u001b[0;31m---------------------------------------------------------------------------\u001b[0m",
            "\u001b[0;31mNameError\u001b[0m                                 Traceback (most recent call last)",
            "\u001b[0;32m<ipython-input-10-653a143a55bb>\u001b[0m in \u001b[0;36m<module>\u001b[0;34m()\u001b[0m\n\u001b[1;32m      1\u001b[0m \u001b[0;31m# para extraer toda la columa\u001b[0m\u001b[0;34m\u001b[0m\u001b[0;34m\u001b[0m\u001b[0;34m\u001b[0m\u001b[0m\n\u001b[0;32m----> 2\u001b[0;31m \u001b[0mauto\u001b[0m\u001b[0;34m.\u001b[0m\u001b[0mloc\u001b[0m\u001b[0;34m[\u001b[0m\u001b[0mmpg\u001b[0m\u001b[0;34m]\u001b[0m\u001b[0;34m\u001b[0m\u001b[0;34m\u001b[0m\u001b[0m\n\u001b[0m",
            "\u001b[0;31mNameError\u001b[0m: name 'mpg' is not defined"
          ]
        }
      ]
    },
    {
      "cell_type": "code",
      "metadata": {
        "id": "8EvLWpqHRXWd"
      },
      "source": [
        "# filtar por carros de 4 y 6 cylindros\n",
        "\n",
        "auto.loc[auto.cylinders == 4 ].head()"
      ],
      "execution_count": null,
      "outputs": []
    },
    {
      "cell_type": "code",
      "metadata": {
        "id": "dlxrDiV5xHLX"
      },
      "source": [
        "#### Ejercicio  http://codeforces.com/contest/136/problem/A\n",
        "import numpy as np\n",
        "N = int(input(\"Ingrese el numero de amigos: \"))\n",
        "if N <= 100:\n",
        "   s = input(\"Ingrese los sujetos separados por espacio: \").split()\n",
        "   if len(s) == N:\n",
        "     print(np.random.choice(s, size= len(s), replace=False))\n",
        "   else: \n",
        "     print(\"Ingreso mas o menos amigos de los especificados\")\n",
        "else:\n",
        "  print(\"Ingrese un número menor que 100\")\n",
        "\n"
      ],
      "execution_count": null,
      "outputs": []
    },
    {
      "cell_type": "markdown",
      "source": [
        "### The number is prime?\n",
        "Create a function that returns true if the number is prime and false otherwise."
      ],
      "metadata": {
        "id": "DovFVGclFdKJ"
      }
    },
    {
      "cell_type": "code",
      "source": [
        "def is_prime(number):\n",
        "  if number < 2:\n",
        "    return False\n",
        "  elif number == 2:\n",
        "    return True\n",
        "  elif number > 2 and number % 2 == 0:\n",
        "    return False\n",
        "  else:\n",
        "    for i in range(3, number):\n",
        "      if number % i == 0:\n",
        "        return False\n",
        "    return True\n",
        "      \n",
        "is_prime(6)\n",
        "\n"
      ],
      "metadata": {
        "colab": {
          "base_uri": "https://localhost:8080/"
        },
        "id": "xYWx6X-YFkx2",
        "outputId": "d1c8aab4-d8af-4a09-d7e5-b1438d7b5bc1"
      },
      "execution_count": null,
      "outputs": [
        {
          "output_type": "execute_result",
          "data": {
            "text/plain": [
              "True"
            ]
          },
          "metadata": {},
          "execution_count": 15
        }
      ]
    },
    {
      "cell_type": "code",
      "source": [
        "list(range(3,6))"
      ],
      "metadata": {
        "colab": {
          "base_uri": "https://localhost:8080/"
        },
        "id": "v_OBLrb2I2MC",
        "outputId": "a56f641f-f184-48a1-eae7-c0ba0648e358"
      },
      "execution_count": null,
      "outputs": [
        {
          "output_type": "execute_result",
          "data": {
            "text/plain": [
              "[3, 4, 5]"
            ]
          },
          "metadata": {},
          "execution_count": 21
        }
      ]
    },
    {
      "cell_type": "code",
      "source": [
        "word = 'Esteban'\n",
        "word[0] = 'A'"
      ],
      "metadata": {
        "colab": {
          "base_uri": "https://localhost:8080/",
          "height": 184
        },
        "id": "c605aFIiKwCx",
        "outputId": "66a852c3-a02f-4c72-a85c-8d702e2b255b"
      },
      "execution_count": null,
      "outputs": [
        {
          "output_type": "error",
          "ename": "TypeError",
          "evalue": "ignored",
          "traceback": [
            "\u001b[0;31m---------------------------------------------------------------------------\u001b[0m",
            "\u001b[0;31mTypeError\u001b[0m                                 Traceback (most recent call last)",
            "\u001b[0;32m<ipython-input-25-0906da361e77>\u001b[0m in \u001b[0;36m<module>\u001b[0;34m()\u001b[0m\n\u001b[1;32m      1\u001b[0m \u001b[0mword\u001b[0m \u001b[0;34m=\u001b[0m \u001b[0;34m'Esteban'\u001b[0m\u001b[0;34m\u001b[0m\u001b[0;34m\u001b[0m\u001b[0m\n\u001b[0;32m----> 2\u001b[0;31m \u001b[0mword\u001b[0m\u001b[0;34m[\u001b[0m\u001b[0;36m0\u001b[0m\u001b[0;34m]\u001b[0m \u001b[0;34m=\u001b[0m \u001b[0;34m'A'\u001b[0m\u001b[0;34m\u001b[0m\u001b[0;34m\u001b[0m\u001b[0m\n\u001b[0m",
            "\u001b[0;31mTypeError\u001b[0m: 'str' object does not support item assignment"
          ]
        }
      ]
    },
    {
      "cell_type": "code",
      "source": [
        "def facto(number):\n",
        "  if number == 0:\n",
        "    return 1\n",
        "  return number * facto(number-1)\n"
      ],
      "metadata": {
        "id": "1KDL15a5Ld4r"
      },
      "execution_count": null,
      "outputs": []
    },
    {
      "cell_type": "code",
      "source": [
        "facto(5000)"
      ],
      "metadata": {
        "colab": {
          "base_uri": "https://localhost:8080/",
          "height": 312
        },
        "id": "7derrL57aXcO",
        "outputId": "e6230754-6c00-478d-99da-6d2a556bbd71"
      },
      "execution_count": null,
      "outputs": [
        {
          "output_type": "error",
          "ename": "RecursionError",
          "evalue": "ignored",
          "traceback": [
            "\u001b[0;31m---------------------------------------------------------------------------\u001b[0m",
            "\u001b[0;31mRecursionError\u001b[0m                            Traceback (most recent call last)",
            "\u001b[0;32m<ipython-input-39-8c7272a76972>\u001b[0m in \u001b[0;36m<module>\u001b[0;34m()\u001b[0m\n\u001b[0;32m----> 1\u001b[0;31m \u001b[0mfacto\u001b[0m\u001b[0;34m(\u001b[0m\u001b[0;36m5000\u001b[0m\u001b[0;34m)\u001b[0m\u001b[0;34m\u001b[0m\u001b[0;34m\u001b[0m\u001b[0m\n\u001b[0m",
            "\u001b[0;32m<ipython-input-37-4045eb78177b>\u001b[0m in \u001b[0;36mfacto\u001b[0;34m(number)\u001b[0m\n\u001b[1;32m      2\u001b[0m   \u001b[0;32mif\u001b[0m \u001b[0mnumber\u001b[0m \u001b[0;34m==\u001b[0m \u001b[0;36m0\u001b[0m\u001b[0;34m:\u001b[0m\u001b[0;34m\u001b[0m\u001b[0;34m\u001b[0m\u001b[0m\n\u001b[1;32m      3\u001b[0m     \u001b[0;32mreturn\u001b[0m \u001b[0;36m1\u001b[0m\u001b[0;34m\u001b[0m\u001b[0;34m\u001b[0m\u001b[0m\n\u001b[0;32m----> 4\u001b[0;31m   \u001b[0;32mreturn\u001b[0m \u001b[0mnumber\u001b[0m \u001b[0;34m*\u001b[0m \u001b[0mfacto\u001b[0m\u001b[0;34m(\u001b[0m\u001b[0mnumber\u001b[0m\u001b[0;34m-\u001b[0m\u001b[0;36m1\u001b[0m\u001b[0;34m)\u001b[0m\u001b[0;34m\u001b[0m\u001b[0;34m\u001b[0m\u001b[0m\n\u001b[0m",
            "... last 1 frames repeated, from the frame below ...\n",
            "\u001b[0;32m<ipython-input-37-4045eb78177b>\u001b[0m in \u001b[0;36mfacto\u001b[0;34m(number)\u001b[0m\n\u001b[1;32m      2\u001b[0m   \u001b[0;32mif\u001b[0m \u001b[0mnumber\u001b[0m \u001b[0;34m==\u001b[0m \u001b[0;36m0\u001b[0m\u001b[0;34m:\u001b[0m\u001b[0;34m\u001b[0m\u001b[0;34m\u001b[0m\u001b[0m\n\u001b[1;32m      3\u001b[0m     \u001b[0;32mreturn\u001b[0m \u001b[0;36m1\u001b[0m\u001b[0;34m\u001b[0m\u001b[0;34m\u001b[0m\u001b[0m\n\u001b[0;32m----> 4\u001b[0;31m   \u001b[0;32mreturn\u001b[0m \u001b[0mnumber\u001b[0m \u001b[0;34m*\u001b[0m \u001b[0mfacto\u001b[0m\u001b[0;34m(\u001b[0m\u001b[0mnumber\u001b[0m\u001b[0;34m-\u001b[0m\u001b[0;36m1\u001b[0m\u001b[0;34m)\u001b[0m\u001b[0;34m\u001b[0m\u001b[0;34m\u001b[0m\u001b[0m\n\u001b[0m",
            "\u001b[0;31mRecursionError\u001b[0m: maximum recursion depth exceeded in comparison"
          ]
        }
      ]
    },
    {
      "cell_type": "code",
      "source": [
        "palindrome = lambda string: string == string[::-1]\n",
        "palindrome('ana')"
      ],
      "metadata": {
        "colab": {
          "base_uri": "https://localhost:8080/"
        },
        "id": "d44gryJWnzav",
        "outputId": "4b673503-e6ef-4c21-b8a4-17aa60c2b2d0"
      },
      "execution_count": null,
      "outputs": [
        {
          "output_type": "execute_result",
          "data": {
            "text/plain": [
              "True"
            ]
          },
          "metadata": {},
          "execution_count": 66
        }
      ]
    }
  ]
}